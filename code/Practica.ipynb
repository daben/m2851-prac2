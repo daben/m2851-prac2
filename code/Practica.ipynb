{
 "cells": [
  {
   "cell_type": "code",
   "execution_count": 1,
   "metadata": {},
   "outputs": [
    {
     "data": {
      "text/html": [
       "\n",
       "<style>\n",
       ".jp-RenderedHTMLCommon {\n",
       "    font-size: 12pt;\n",
       "    font-family: sans-serif;\n",
       "}\n",
       "</style>"
      ],
      "text/plain": [
       "<IPython.core.display.HTML object>"
      ]
     },
     "metadata": {},
     "output_type": "display_data"
    }
   ],
   "source": [
    "%%html\n",
    "\n",
    "<style>\n",
    ".jp-RenderedHTMLCommon {\n",
    "    font-size: 12pt;\n",
    "    font-family: sans-serif;\n",
    "}\n",
    "</style>"
   ]
  },
  {
   "cell_type": "markdown",
   "metadata": {},
   "source": [
    "---\n",
    "Práctica 2 // M2.851 - Tipología y ciclo de vida de los datos\n",
    "# Titanic: Machine Learning from Disaster\n",
    "\n",
    "David Moriano (dmoriano@uoc.edu)\n",
    "\n",
    "---"
   ]
  },
  {
   "cell_type": "markdown",
   "metadata": {},
   "source": [
    "## Descripción del dataset "
   ]
  },
  {
   "cell_type": "markdown",
   "metadata": {},
   "source": [
    "La madrugada del 15 de abril de 1912, en su viaje inaugural desde Southampton a Nueva York, el RMS Titanic, en la época, el barco más grande del mundo, se hundió en apenas 2 horas y 40 minutos en el Atlántico Norte tras chocar con un iceberg. En este desastre se estima que murieron más de 1500 personas de las 2224 que había a bordo entre pasajeros y tripulación. Uno de los mayores naufragios de la historia ocurridos en tiempo de paz. Esta tragedia conmocionó el mundo y llevó a mejorar la seguridad marítima.\n"
   ]
  },
  {
   "cell_type": "markdown",
   "metadata": {},
   "source": [
    "Con esta inspiración compienza la competición educativa de [Kaggle][kaggle:home]:  [\"Titanic: Machine Learning from Disaster\"][kaggle:titanic] que será objeto de este proyecto. En esta competición se pide aplicar la ciencia de datos para analizar la probabilidad de ser un superviviente del Titanic. En particular, se pide usar aprendizaje automático para predecir que pasajeros sobrevivieron la tragedia.\n",
    "\n",
    "[kaggle:home]: https://www.kaggle.com\n",
    "[kaggle:titanic]: https://www.kaggle.com/c/titanic"
   ]
  },
  {
   "cell_type": "markdown",
   "metadata": {},
   "source": [
    "El dataset está dividido en dos ficheros CSV: \n",
    "- `train.csv`: contiene los datos de **891 pasajeros** para análisis y entrenamiento del modelo que clasifique a los pasajeros como supervivientes o víctimas. Este dataset contiene la variable objetivo.\n",
    "- `test.csv`: contiene los datos de otros **418 pasajeros** para evaluar la precisión del modelo dentro de la competición. Este dataset contiene una lista de pasajeros con las mismas características que `train.csv` pero sin la variable objetivo.\n",
    "\n",
    "En su conjunto, el dataset contiene datos de 1309 pasajeros y se ha hecho un *split* de, aproximadamente, 70/30 para entrenamiento y validación de los modelos de predicción. Según [wikipedia](https://en.wikipedia.org/wiki/RMS_Titanic#Passengers), el Titanic llevaba aproximadamente 1317 pasajeros (324 en primera clase, 284 en segunda y 709 en tercera), por lo que se puede considerar un dataset bastante completo. La tripulación está fuera del ámbito de este dataset."
   ]
  },
  {
   "cell_type": "markdown",
   "metadata": {},
   "source": [
    "En estos ficheros cada fila corresponde con un pasajero distinto y las características disponibles para cada pasajero son las siguientes:\n",
    "\n",
    "- **Survived**: variable objetivo de tipo binario que indica si el pasajero sobrevivió (1) o no (0). Sólo en `train.csv`.  \n",
    "- **Pclass**: Categoría del billete que tenía el pasajero. Categórica. En el RMS Titanic había tres clases: Primera (1), Segunda (2) y Tercera (3). En esa época la clase sirve de proxy para el estatus socio-economico del pasajero.\n",
    "- **Sex**: Sexo del pasajero. Binaria. Hombre (male) y mujer (female).\n",
    "- **Age**: Edad del pasajero. Fracional si el pasajero tiene menos de 1 año. Las edades estimadas tienen la forma `xx.5`.\n",
    "- **SibSp**: Número de hermanos o esposos a bordo.\n",
    "- **Parch**: Número de padres (las niñeras no se incluyen) o hijos a bordo.\n",
    "- **Ticket**: Número o código del billete. Nominal.\n",
    "- **Fare**: Precio del pasaje.\n",
    "- **Cabin**: Número del camarote. Nominal.\n",
    "- **Embarked**: Puerto de embarque. Categórica. Hay tres puertos: Cherbourg (C), Queenstown (Q) y Southampton (S).\n",
    "\n",
    "Los ficheros incluyen además un campo `PassengerId` que identifica cada registro dentro del dataset."
   ]
  },
  {
   "cell_type": "markdown",
   "metadata": {},
   "source": [
    "En general, una lista de pasajeros forma un dataset que puede ser muy útil desde otros puntos de vista, como, por ejemplo, desde el punto de vista de la seguridad para detectar anomalias o riesgos y, quizás, mejorar los planes de emergencia. Este dataset, en concreto, es interesante desde un punto de vista educativo por ser de un tamaño muy manejable, de fácil comprensión y con abundante información adicional."
   ]
  },
  {
   "cell_type": "markdown",
   "metadata": {},
   "source": [
    "En este ejercicio nos planteamos como objetivo responder a la pregunta de la competición, es decir, construir un modelo para predecir si un pasajero dado sobrevivió o no. Para ser más precisos, el objetivo de la competición es imputar los valores perdidos en la variable `Survived`. En el camino intentaremos analizar que factores fueron más relevantes. Trataremos de responder preguntas como:\n",
    "\n",
    "- ¿Influyen la edad, el sexo o la clase en la supervivencia?\n",
    "- ¿Influye viajar en familia?\n",
    "- ¿Influye viajar en grupo?\n",
    "\n",
    "Hay que notar también que el problema planteado en la competición está resuelto; la lista de los pasajeros y tripulantes que sobrevieron es pública. Ahora, es posible que el dataset haya sido alterado para representar una versión diferente de la realidad, en cualquier caso, para evitar sesgar las prediciones nos restringiremos a los datos proporcionados para la competición."
   ]
  },
  {
   "cell_type": "markdown",
   "metadata": {},
   "source": [
    "## Preámbulo -- Imports"
   ]
  },
  {
   "cell_type": "code",
   "execution_count": 2,
   "metadata": {},
   "outputs": [],
   "source": [
    "# Matplotlib rendering in the notebook\n",
    "%matplotlib inline\n",
    "\n",
    "# Common imports\n",
    "import os\n",
    "import sys\n",
    "import re\n",
    "import math\n",
    "import random\n",
    "import time\n",
    "import datetime\n",
    "import types\n",
    "import warnings\n",
    "import itertools\n",
    "from glob import glob\n",
    "# numerical libraries\n",
    "import numpy as np\n",
    "import pandas as pd\n",
    "import scipy\n",
    "import scipy.stats as stats\n",
    "import sklearn\n",
    "import sklearn_pandas\n",
    "# plotting\n",
    "import matplotlib.pyplot as plt\n",
    "import seaborn as sea\n",
    "from IPython.display import display, HTML"
   ]
  },
  {
   "cell_type": "code",
   "execution_count": 3,
   "metadata": {},
   "outputs": [
    {
     "data": {
      "text/html": [
       "<div>\n",
       "<style scoped>\n",
       "    .dataframe tbody tr th:only-of-type {\n",
       "        vertical-align: middle;\n",
       "    }\n",
       "\n",
       "    .dataframe tbody tr th {\n",
       "        vertical-align: top;\n",
       "    }\n",
       "\n",
       "    .dataframe thead th {\n",
       "        text-align: right;\n",
       "    }\n",
       "</style>\n",
       "<table border=\"1\" class=\"dataframe\">\n",
       "  <thead>\n",
       "    <tr style=\"text-align: right;\">\n",
       "      <th></th>\n",
       "      <th>Name</th>\n",
       "      <th>Version</th>\n",
       "    </tr>\n",
       "  </thead>\n",
       "  <tbody>\n",
       "    <tr>\n",
       "      <th>0</th>\n",
       "      <td>Python</td>\n",
       "      <td>3.6.5</td>\n",
       "    </tr>\n",
       "    <tr>\n",
       "      <th>1</th>\n",
       "      <td>numpy</td>\n",
       "      <td>1.14.3</td>\n",
       "    </tr>\n",
       "    <tr>\n",
       "      <th>2</th>\n",
       "      <td>pandas</td>\n",
       "      <td>0.23.0</td>\n",
       "    </tr>\n",
       "    <tr>\n",
       "      <th>3</th>\n",
       "      <td>scipy</td>\n",
       "      <td>1.1.0</td>\n",
       "    </tr>\n",
       "    <tr>\n",
       "      <th>4</th>\n",
       "      <td>matplotlib</td>\n",
       "      <td>2.2.2</td>\n",
       "    </tr>\n",
       "    <tr>\n",
       "      <th>5</th>\n",
       "      <td>seaborn</td>\n",
       "      <td>0.8.1</td>\n",
       "    </tr>\n",
       "    <tr>\n",
       "      <th>6</th>\n",
       "      <td>sklearn</td>\n",
       "      <td>0.19.1</td>\n",
       "    </tr>\n",
       "    <tr>\n",
       "      <th>7</th>\n",
       "      <td>sklearn_pandas</td>\n",
       "      <td>1.6.0</td>\n",
       "    </tr>\n",
       "  </tbody>\n",
       "</table>\n",
       "</div>"
      ],
      "text/plain": [
       "             Name Version\n",
       "0          Python   3.6.5\n",
       "1           numpy  1.14.3\n",
       "2          pandas  0.23.0\n",
       "3           scipy   1.1.0\n",
       "4      matplotlib   2.2.2\n",
       "5         seaborn   0.8.1\n",
       "6         sklearn  0.19.1\n",
       "7  sklearn_pandas   1.6.0"
      ]
     },
     "execution_count": 3,
     "metadata": {},
     "output_type": "execute_result"
    }
   ],
   "source": [
    "library_versions = pd.DataFrame(\n",
    "    columns=['Name', 'Version'],\n",
    "    data=([('Python', sys.version.split()[0])]\n",
    "          +[(m.__name__, m.__version__) \n",
    "            for m in (np, pd, scipy, plt.matplotlib, sea, sklearn, sklearn_pandas)]))\n",
    "library_versions"
   ]
  },
  {
   "cell_type": "code",
   "execution_count": 4,
   "metadata": {},
   "outputs": [],
   "source": [
    "# Apply seaborn styling\n",
    "sea.set(style='white', palette='Set3')\n",
    "sea.set_color_codes('muted')\n",
    "# Tune plots\n",
    "plt.rcParams['savefig.dpi'] = 96\n",
    "plt.rcParams['figure.autolayout'] = True\n",
    "plt.rcParams['figure.figsize'] = (10, 6)\n",
    "plt.rcParams['axes.labelsize'] = 12\n",
    "plt.rcParams['xtick.labelsize'] = 12\n",
    "plt.rcParams['ytick.labelsize'] = 12\n",
    "plt.rcParams['axes.titlesize'] = 16\n",
    "plt.rcParams['font.size'] = 12\n",
    "plt.rcParams['lines.linewidth'] = 1.5\n",
    "plt.rcParams['lines.markersize'] = 8\n",
    "plt.rcParams['legend.fontsize'] = 14"
   ]
  },
  {
   "cell_type": "code",
   "execution_count": 5,
   "metadata": {},
   "outputs": [],
   "source": [
    "# Disable some irrelevant warnings\n",
    "warnings.filterwarnings('ignore', category=FutureWarning)\n",
    "warnings.filterwarnings('ignore', category=DeprecationWarning)\n",
    "warnings.filterwarnings('ignore', category=UserWarning, module='matplotlib')"
   ]
  },
  {
   "cell_type": "markdown",
   "metadata": {},
   "source": [
    "## Integración y selección de los datos "
   ]
  },
  {
   "cell_type": "markdown",
   "metadata": {},
   "source": [
    "Leemos los datos de los ficheros CSV y realizamos un primer contacto."
   ]
  },
  {
   "cell_type": "code",
   "execution_count": 6,
   "metadata": {},
   "outputs": [],
   "source": [
    "DATA_PATH = '../input'"
   ]
  },
  {
   "cell_type": "code",
   "execution_count": 7,
   "metadata": {},
   "outputs": [],
   "source": [
    "titanic_train = pd.read_csv(os.path.join(DATA_PATH, 'train.csv'))\n",
    "titanic_test = pd.read_csv(os.path.join(DATA_PATH, 'test.csv'))"
   ]
  },
  {
   "cell_type": "code",
   "execution_count": 8,
   "metadata": {},
   "outputs": [
    {
     "data": {
      "text/html": [
       "<div>\n",
       "<style scoped>\n",
       "    .dataframe tbody tr th:only-of-type {\n",
       "        vertical-align: middle;\n",
       "    }\n",
       "\n",
       "    .dataframe tbody tr th {\n",
       "        vertical-align: top;\n",
       "    }\n",
       "\n",
       "    .dataframe thead th {\n",
       "        text-align: right;\n",
       "    }\n",
       "</style>\n",
       "<table border=\"1\" class=\"dataframe\">\n",
       "  <thead>\n",
       "    <tr style=\"text-align: right;\">\n",
       "      <th></th>\n",
       "      <th>PassengerId</th>\n",
       "      <th>Survived</th>\n",
       "      <th>Pclass</th>\n",
       "      <th>Name</th>\n",
       "      <th>Sex</th>\n",
       "      <th>Age</th>\n",
       "      <th>SibSp</th>\n",
       "      <th>Parch</th>\n",
       "      <th>Ticket</th>\n",
       "      <th>Fare</th>\n",
       "      <th>Cabin</th>\n",
       "      <th>Embarked</th>\n",
       "    </tr>\n",
       "  </thead>\n",
       "  <tbody>\n",
       "    <tr>\n",
       "      <th>0</th>\n",
       "      <td>1</td>\n",
       "      <td>0</td>\n",
       "      <td>3</td>\n",
       "      <td>Braund, Mr. Owen Harris</td>\n",
       "      <td>male</td>\n",
       "      <td>22.0</td>\n",
       "      <td>1</td>\n",
       "      <td>0</td>\n",
       "      <td>A/5 21171</td>\n",
       "      <td>7.2500</td>\n",
       "      <td>NaN</td>\n",
       "      <td>S</td>\n",
       "    </tr>\n",
       "    <tr>\n",
       "      <th>1</th>\n",
       "      <td>2</td>\n",
       "      <td>1</td>\n",
       "      <td>1</td>\n",
       "      <td>Cumings, Mrs. John Bradley (Florence Briggs Th...</td>\n",
       "      <td>female</td>\n",
       "      <td>38.0</td>\n",
       "      <td>1</td>\n",
       "      <td>0</td>\n",
       "      <td>PC 17599</td>\n",
       "      <td>71.2833</td>\n",
       "      <td>C85</td>\n",
       "      <td>C</td>\n",
       "    </tr>\n",
       "    <tr>\n",
       "      <th>2</th>\n",
       "      <td>3</td>\n",
       "      <td>1</td>\n",
       "      <td>3</td>\n",
       "      <td>Heikkinen, Miss. Laina</td>\n",
       "      <td>female</td>\n",
       "      <td>26.0</td>\n",
       "      <td>0</td>\n",
       "      <td>0</td>\n",
       "      <td>STON/O2. 3101282</td>\n",
       "      <td>7.9250</td>\n",
       "      <td>NaN</td>\n",
       "      <td>S</td>\n",
       "    </tr>\n",
       "  </tbody>\n",
       "</table>\n",
       "</div>"
      ],
      "text/plain": [
       "   PassengerId  Survived  Pclass  \\\n",
       "0            1         0       3   \n",
       "1            2         1       1   \n",
       "2            3         1       3   \n",
       "\n",
       "                                                Name     Sex   Age  SibSp  \\\n",
       "0                            Braund, Mr. Owen Harris    male  22.0      1   \n",
       "1  Cumings, Mrs. John Bradley (Florence Briggs Th...  female  38.0      1   \n",
       "2                             Heikkinen, Miss. Laina  female  26.0      0   \n",
       "\n",
       "   Parch            Ticket     Fare Cabin Embarked  \n",
       "0      0         A/5 21171   7.2500   NaN        S  \n",
       "1      0          PC 17599  71.2833   C85        C  \n",
       "2      0  STON/O2. 3101282   7.9250   NaN        S  "
      ]
     },
     "execution_count": 8,
     "metadata": {},
     "output_type": "execute_result"
    }
   ],
   "source": [
    "titanic_train.head(3)"
   ]
  },
  {
   "cell_type": "code",
   "execution_count": 9,
   "metadata": {},
   "outputs": [
    {
     "data": {
      "text/html": [
       "<div>\n",
       "<style scoped>\n",
       "    .dataframe tbody tr th:only-of-type {\n",
       "        vertical-align: middle;\n",
       "    }\n",
       "\n",
       "    .dataframe tbody tr th {\n",
       "        vertical-align: top;\n",
       "    }\n",
       "\n",
       "    .dataframe thead th {\n",
       "        text-align: right;\n",
       "    }\n",
       "</style>\n",
       "<table border=\"1\" class=\"dataframe\">\n",
       "  <thead>\n",
       "    <tr style=\"text-align: right;\">\n",
       "      <th></th>\n",
       "      <th>PassengerId</th>\n",
       "      <th>Pclass</th>\n",
       "      <th>Name</th>\n",
       "      <th>Sex</th>\n",
       "      <th>Age</th>\n",
       "      <th>SibSp</th>\n",
       "      <th>Parch</th>\n",
       "      <th>Ticket</th>\n",
       "      <th>Fare</th>\n",
       "      <th>Cabin</th>\n",
       "      <th>Embarked</th>\n",
       "    </tr>\n",
       "  </thead>\n",
       "  <tbody>\n",
       "    <tr>\n",
       "      <th>0</th>\n",
       "      <td>892</td>\n",
       "      <td>3</td>\n",
       "      <td>Kelly, Mr. James</td>\n",
       "      <td>male</td>\n",
       "      <td>34.5</td>\n",
       "      <td>0</td>\n",
       "      <td>0</td>\n",
       "      <td>330911</td>\n",
       "      <td>7.8292</td>\n",
       "      <td>NaN</td>\n",
       "      <td>Q</td>\n",
       "    </tr>\n",
       "    <tr>\n",
       "      <th>1</th>\n",
       "      <td>893</td>\n",
       "      <td>3</td>\n",
       "      <td>Wilkes, Mrs. James (Ellen Needs)</td>\n",
       "      <td>female</td>\n",
       "      <td>47.0</td>\n",
       "      <td>1</td>\n",
       "      <td>0</td>\n",
       "      <td>363272</td>\n",
       "      <td>7.0000</td>\n",
       "      <td>NaN</td>\n",
       "      <td>S</td>\n",
       "    </tr>\n",
       "    <tr>\n",
       "      <th>2</th>\n",
       "      <td>894</td>\n",
       "      <td>2</td>\n",
       "      <td>Myles, Mr. Thomas Francis</td>\n",
       "      <td>male</td>\n",
       "      <td>62.0</td>\n",
       "      <td>0</td>\n",
       "      <td>0</td>\n",
       "      <td>240276</td>\n",
       "      <td>9.6875</td>\n",
       "      <td>NaN</td>\n",
       "      <td>Q</td>\n",
       "    </tr>\n",
       "  </tbody>\n",
       "</table>\n",
       "</div>"
      ],
      "text/plain": [
       "   PassengerId  Pclass                              Name     Sex   Age  SibSp  \\\n",
       "0          892       3                  Kelly, Mr. James    male  34.5      0   \n",
       "1          893       3  Wilkes, Mrs. James (Ellen Needs)  female  47.0      1   \n",
       "2          894       2         Myles, Mr. Thomas Francis    male  62.0      0   \n",
       "\n",
       "   Parch  Ticket    Fare Cabin Embarked  \n",
       "0      0  330911  7.8292   NaN        Q  \n",
       "1      0  363272  7.0000   NaN        S  \n",
       "2      0  240276  9.6875   NaN        Q  "
      ]
     },
     "execution_count": 9,
     "metadata": {},
     "output_type": "execute_result"
    }
   ],
   "source": [
    "titanic_test.head(3)"
   ]
  },
  {
   "cell_type": "markdown",
   "metadata": {},
   "source": [
    "Para evitar fugas de información del conjunto de evaluación que puedan sesgar los modelos predictivos es importante tratar los conjuntos de entrenamiento y evaluación por separado. En particular, es importante realizar los análisis sólo  en el conjunto de entrenamiento. No obstante, para simplificar la limpieza y el análisis de algunas variables necesitamos información sobre la población completa. Por ello vamos a combinar ambos datasets en un único `DataFrame`. Añadiremos una clave (`split`) para identificar el origen de cada registro."
   ]
  },
  {
   "cell_type": "code",
   "execution_count": 10,
   "metadata": {},
   "outputs": [],
   "source": [
    "titanic_train['split'] = 'train'\n",
    "titanic_test['split'] = 'test'\n",
    "\n",
    "titanic = pd.concat([titanic_train, titanic_test], sort=True)"
   ]
  },
  {
   "cell_type": "code",
   "execution_count": 11,
   "metadata": {},
   "outputs": [],
   "source": [
    "del titanic_train, titanic_test"
   ]
  },
  {
   "cell_type": "markdown",
   "metadata": {},
   "source": [
    "## Limpieza de los datos"
   ]
  },
  {
   "cell_type": "markdown",
   "metadata": {},
   "source": [
    "En la etapa de limpieza vamos a buscar datos nulos, datos erróneos, inconsistencias y datos extremos. Eliminaremos las variables que no sean útiles, resolveremos las inconsistencias que encontremos y trataremos de consolidar el dataset para el análisis. Cabe decir que, a cierto nivel de detalle, la detección y el tratamiento de errores en el dataset se mezclan con el análisis y no es posible hacer una distinción clara."
   ]
  },
  {
   "cell_type": "markdown",
   "metadata": {},
   "source": [
    "Empezamos verificando que `PassengerId` es un índice válido y haciendo una primera descripción de los datos."
   ]
  },
  {
   "cell_type": "code",
   "execution_count": 12,
   "metadata": {},
   "outputs": [
    {
     "name": "stdout",
     "output_type": "stream",
     "text": [
      "Is PassengerId monotonic? True\n",
      "Is PassangerId sorted? True\n"
     ]
    }
   ],
   "source": [
    "passengerId = list(titanic['PassengerId'])\n",
    "\n",
    "# Not duplicates\n",
    "assert titanic.PassengerId.duplicated().sum() == 0\n",
    "\n",
    "# Sequential?\n",
    "print(\"Is PassengerId monotonic?\", sorted(passengerId) == list(range(1, len(titanic) + 1)))\n",
    "print(\"Is PassangerId sorted?\", passengerId == sorted(passengerId))"
   ]
  },
  {
   "cell_type": "code",
   "execution_count": 13,
   "metadata": {},
   "outputs": [],
   "source": [
    "titanic.set_index(\"PassengerId\", inplace=True, drop=True, verify_integrity=True)"
   ]
  },
  {
   "cell_type": "markdown",
   "metadata": {},
   "source": [
    "En segundo lugar vamos a hacer una limpieza básica de las variables de tipo `string` eliminando los espacios vacíos en los extremos."
   ]
  },
  {
   "cell_type": "code",
   "execution_count": 14,
   "metadata": {},
   "outputs": [],
   "source": [
    "for c in titanic:\n",
    "    if titanic[c].dtype == np.object:\n",
    "        titanic[c] = titanic[c].str.strip()"
   ]
  },
  {
   "cell_type": "markdown",
   "metadata": {},
   "source": [
    "Podemos obtener una descripción detallada con la función `DataFrame.describe`."
   ]
  },
  {
   "cell_type": "code",
   "execution_count": 15,
   "metadata": {},
   "outputs": [
    {
     "data": {
      "text/html": [
       "<div>\n",
       "<style scoped>\n",
       "    .dataframe tbody tr th:only-of-type {\n",
       "        vertical-align: middle;\n",
       "    }\n",
       "\n",
       "    .dataframe tbody tr th {\n",
       "        vertical-align: top;\n",
       "    }\n",
       "\n",
       "    .dataframe thead th {\n",
       "        text-align: right;\n",
       "    }\n",
       "</style>\n",
       "<table border=\"1\" class=\"dataframe\">\n",
       "  <thead>\n",
       "    <tr style=\"text-align: right;\">\n",
       "      <th></th>\n",
       "      <th>dtype</th>\n",
       "      <th>count</th>\n",
       "      <th>unique</th>\n",
       "      <th>top</th>\n",
       "      <th>freq</th>\n",
       "      <th>mean</th>\n",
       "      <th>std</th>\n",
       "      <th>min</th>\n",
       "      <th>25%</th>\n",
       "      <th>50%</th>\n",
       "      <th>75%</th>\n",
       "      <th>max</th>\n",
       "    </tr>\n",
       "  </thead>\n",
       "  <tbody>\n",
       "    <tr>\n",
       "      <th>Age</th>\n",
       "      <td>float64</td>\n",
       "      <td>1046</td>\n",
       "      <td>98</td>\n",
       "      <td></td>\n",
       "      <td></td>\n",
       "      <td>29.8811</td>\n",
       "      <td>14.4135</td>\n",
       "      <td>0.17</td>\n",
       "      <td>21</td>\n",
       "      <td>28</td>\n",
       "      <td>39</td>\n",
       "      <td>80</td>\n",
       "    </tr>\n",
       "    <tr>\n",
       "      <th>Cabin</th>\n",
       "      <td>object</td>\n",
       "      <td>295</td>\n",
       "      <td>186</td>\n",
       "      <td>C23 C25 C27</td>\n",
       "      <td>6</td>\n",
       "      <td></td>\n",
       "      <td></td>\n",
       "      <td></td>\n",
       "      <td></td>\n",
       "      <td></td>\n",
       "      <td></td>\n",
       "      <td></td>\n",
       "    </tr>\n",
       "    <tr>\n",
       "      <th>Embarked</th>\n",
       "      <td>object</td>\n",
       "      <td>1307</td>\n",
       "      <td>3</td>\n",
       "      <td>S</td>\n",
       "      <td>914</td>\n",
       "      <td></td>\n",
       "      <td></td>\n",
       "      <td></td>\n",
       "      <td></td>\n",
       "      <td></td>\n",
       "      <td></td>\n",
       "      <td></td>\n",
       "    </tr>\n",
       "    <tr>\n",
       "      <th>Fare</th>\n",
       "      <td>float64</td>\n",
       "      <td>1308</td>\n",
       "      <td>281</td>\n",
       "      <td></td>\n",
       "      <td></td>\n",
       "      <td>33.2955</td>\n",
       "      <td>51.7587</td>\n",
       "      <td>0</td>\n",
       "      <td>7.8958</td>\n",
       "      <td>14.4542</td>\n",
       "      <td>31.275</td>\n",
       "      <td>512.329</td>\n",
       "    </tr>\n",
       "    <tr>\n",
       "      <th>Name</th>\n",
       "      <td>object</td>\n",
       "      <td>1309</td>\n",
       "      <td>1307</td>\n",
       "      <td>Connolly, Miss. Kate</td>\n",
       "      <td>2</td>\n",
       "      <td></td>\n",
       "      <td></td>\n",
       "      <td></td>\n",
       "      <td></td>\n",
       "      <td></td>\n",
       "      <td></td>\n",
       "      <td></td>\n",
       "    </tr>\n",
       "    <tr>\n",
       "      <th>Parch</th>\n",
       "      <td>int64</td>\n",
       "      <td>1309</td>\n",
       "      <td>8</td>\n",
       "      <td></td>\n",
       "      <td></td>\n",
       "      <td>0.385027</td>\n",
       "      <td>0.86556</td>\n",
       "      <td>0</td>\n",
       "      <td>0</td>\n",
       "      <td>0</td>\n",
       "      <td>0</td>\n",
       "      <td>9</td>\n",
       "    </tr>\n",
       "    <tr>\n",
       "      <th>Pclass</th>\n",
       "      <td>int64</td>\n",
       "      <td>1309</td>\n",
       "      <td>3</td>\n",
       "      <td></td>\n",
       "      <td></td>\n",
       "      <td>2.29488</td>\n",
       "      <td>0.837836</td>\n",
       "      <td>1</td>\n",
       "      <td>2</td>\n",
       "      <td>3</td>\n",
       "      <td>3</td>\n",
       "      <td>3</td>\n",
       "    </tr>\n",
       "    <tr>\n",
       "      <th>Sex</th>\n",
       "      <td>object</td>\n",
       "      <td>1309</td>\n",
       "      <td>2</td>\n",
       "      <td>male</td>\n",
       "      <td>843</td>\n",
       "      <td></td>\n",
       "      <td></td>\n",
       "      <td></td>\n",
       "      <td></td>\n",
       "      <td></td>\n",
       "      <td></td>\n",
       "      <td></td>\n",
       "    </tr>\n",
       "    <tr>\n",
       "      <th>SibSp</th>\n",
       "      <td>int64</td>\n",
       "      <td>1309</td>\n",
       "      <td>7</td>\n",
       "      <td></td>\n",
       "      <td></td>\n",
       "      <td>0.498854</td>\n",
       "      <td>1.04166</td>\n",
       "      <td>0</td>\n",
       "      <td>0</td>\n",
       "      <td>0</td>\n",
       "      <td>1</td>\n",
       "      <td>8</td>\n",
       "    </tr>\n",
       "    <tr>\n",
       "      <th>Survived</th>\n",
       "      <td>float64</td>\n",
       "      <td>891</td>\n",
       "      <td>2</td>\n",
       "      <td></td>\n",
       "      <td></td>\n",
       "      <td>0.383838</td>\n",
       "      <td>0.486592</td>\n",
       "      <td>0</td>\n",
       "      <td>0</td>\n",
       "      <td>0</td>\n",
       "      <td>1</td>\n",
       "      <td>1</td>\n",
       "    </tr>\n",
       "    <tr>\n",
       "      <th>Ticket</th>\n",
       "      <td>object</td>\n",
       "      <td>1309</td>\n",
       "      <td>929</td>\n",
       "      <td>CA. 2343</td>\n",
       "      <td>11</td>\n",
       "      <td></td>\n",
       "      <td></td>\n",
       "      <td></td>\n",
       "      <td></td>\n",
       "      <td></td>\n",
       "      <td></td>\n",
       "      <td></td>\n",
       "    </tr>\n",
       "    <tr>\n",
       "      <th>split</th>\n",
       "      <td>object</td>\n",
       "      <td>1309</td>\n",
       "      <td>2</td>\n",
       "      <td>train</td>\n",
       "      <td>891</td>\n",
       "      <td></td>\n",
       "      <td></td>\n",
       "      <td></td>\n",
       "      <td></td>\n",
       "      <td></td>\n",
       "      <td></td>\n",
       "      <td></td>\n",
       "    </tr>\n",
       "  </tbody>\n",
       "</table>\n",
       "</div>"
      ],
      "text/plain": [
       "            dtype  count  unique                   top freq      mean  \\\n",
       "Age       float64   1046      98                              29.8811   \n",
       "Cabin      object    295     186           C23 C25 C27    6             \n",
       "Embarked   object   1307       3                     S  914             \n",
       "Fare      float64   1308     281                              33.2955   \n",
       "Name       object   1309    1307  Connolly, Miss. Kate    2             \n",
       "Parch       int64   1309       8                             0.385027   \n",
       "Pclass      int64   1309       3                              2.29488   \n",
       "Sex        object   1309       2                  male  843             \n",
       "SibSp       int64   1309       7                             0.498854   \n",
       "Survived  float64    891       2                             0.383838   \n",
       "Ticket     object   1309     929              CA. 2343   11             \n",
       "split      object   1309       2                 train  891             \n",
       "\n",
       "               std   min     25%      50%     75%      max  \n",
       "Age        14.4135  0.17      21       28      39       80  \n",
       "Cabin                                                       \n",
       "Embarked                                                    \n",
       "Fare       51.7587     0  7.8958  14.4542  31.275  512.329  \n",
       "Name                                                        \n",
       "Parch      0.86556     0       0        0       0        9  \n",
       "Pclass    0.837836     1       2        3       3        3  \n",
       "Sex                                                         \n",
       "SibSp      1.04166     0       0        0       1        8  \n",
       "Survived  0.486592     0       0        0       1        1  \n",
       "Ticket                                                      \n",
       "split                                                       "
      ]
     },
     "metadata": {},
     "output_type": "display_data"
    }
   ],
   "source": [
    "description = titanic.describe(include='all').T\n",
    "# Some enhancements\n",
    "description.insert(0, 'dtype', None)\n",
    "description['count'] = description['count'].astype(int)\n",
    "for c in titanic:\n",
    "    description.loc[c, 'unique'] = titanic[c].nunique()\n",
    "    description.loc[c, 'dtype'] = titanic[c].dtype\n",
    "# Just to make it clearer\n",
    "description.fillna('', inplace=True)\n",
    "display(description)"
   ]
  },
  {
   "cell_type": "markdown",
   "metadata": {},
   "source": [
    "En esta descripción vemos varias cosas:\n",
    "\n",
    "- El dataset de entrenamiento contiene 891 entradas, el de evaluación 418. Vemos ya que hay datos nulos que tendrán que ser tratados.\n",
    "- En la variable `Cabin` hay celdas con el código de varios camarotes. No hay razón para pensar que esto es un error, pues, es posible que algunos pasajeros hubieran reservado varios camarotes.\n",
    "- La variable `Ticket` tiene numerosos valores duplicados. Esto tampoco es un error. En la época era común poner a pasajeros de la misma familia, a sus niñeras o a grupos de la tercera clase en el mismo billete. En realidad, este hecho nos puede ayudar a identificar grupos de pasajeros.\n",
    "- Hay tarifas con valor 0, pero no hay razón para pensar que esto es un error. Por ejemplo, el dueño y el arquitecto del barco viajaban a bordo. Seguramente había más pasajeros que, por una razón u otra, viajan con un billete sin tarifa.\n",
    "- En la distribución de la variable `Age` no se aprecian valores extremos.\n",
    "- La variable `Fare` tiene una larga cola a la derecha con un máximo muy alejado de la media.\n",
    "- En las distribuciones de `SibSp` y `Parch` no se aprecian anomalías.\n",
    "- Hay nombres duplicados, pero esto no es necesariamente un error."
   ]
  },
  {
   "cell_type": "markdown",
   "metadata": {},
   "source": [
    "Validamos las variables categóricas `Pclass`, `Sex` y `Embarked`"
   ]
  },
  {
   "cell_type": "code",
   "execution_count": 16,
   "metadata": {},
   "outputs": [],
   "source": [
    "assert set(titanic['Pclass']) == {1, 2, 3}, \"Error in Pclass\"\n",
    "assert set(titanic['Sex']) == {'male', 'female'}, \"Error in Sex\"\n",
    "assert set(titanic['Embarked'].dropna()) == { 'S', 'C', 'Q'}, \"Error in Embarked\""
   ]
  },
  {
   "cell_type": "code",
   "execution_count": 17,
   "metadata": {},
   "outputs": [
    {
     "data": {
      "image/png": "[encoded data removed]",
      "text/plain": [
       "<Figure size 1080x216 with 3 Axes>"
      ]
     },
     "metadata": {},
     "output_type": "display_data"
    }
   ],
   "source": [
    "fig, axes = plt.subplots(1, 3, figsize=(15, 3))\n",
    "for i, var_ in enumerate(('Pclass', 'Sex', 'Embarked')):\n",
    "    var_df = (titanic.reset_index()\n",
    "               .groupby(var_)['PassengerId']\n",
    "               .count()\n",
    "               .to_frame()\n",
    "               .rename(columns={'PassengerId': 'Passengers'}))\n",
    "    var_df.Passengers.plot.bar(ax=axes[i])\n",
    "    axes[i].set(xlabel='')\n",
    "    axes[i].set_title(var_, loc='left')"
   ]
  },
  {
   "cell_type": "code",
   "execution_count": 18,
   "metadata": {},
   "outputs": [
    {
     "name": "stdout",
     "output_type": "stream",
     "text": [
      "Cabins:\n",
      "A10, A11, A14, A16, A18, A19, A20, A21, A23, A24, A26, A29, A31, A32, A34, A36, A5, A6, A7, A9, B10, B101, B102, B11, B18, B19, B20, B22, B24, B26, B28, B3, B30, B35, B36, B37, B38, B39, B4, B41, B42, B45, B49, B5, B50, B51 B53 B55, B52 B54 B56, B57 B59 B63 B66, B58 B60, B61, B69, B71, B73, B77, B78, B79, B80, B82 B84, B86, B94, B96 B98, C101, C103, C104, C105, C106, C110, C111, C116, C118, C123, C124, C125, C126, C128, C130, C132, C148, C2, C22 C26, C23 C25 C27, C28, C30, C31, C32, C39, C45, C46, C47, C49, C50, C51, C52, C53, C54, C55 C57, C6, C62 C64, C65, C68, C7, C70, C78, C80, C82, C83, C85, C86, C87, C89, C90, C91, C92, C93, C95, C97, C99, D, D10 D12, D11, D15, D17, D19, D20, D21, D22, D26, D28, D30, D33, D34, D35, D36, D37, D38, D40, D43, D45, D46, D47, D48, D49, D50, D56, D6, D7, D9, E10, E101, E12, E121, E17, E24, E25, E31, E33, E34, E36, E38, E39 E41, E40, E44, E45, E46, E49, E50, E52, E58, E60, E63, E67, E68, E77, E8, F, F E46, F E57, F E69, F G63, F G73, F2, F33, F38, F4, G6, T\n"
     ]
    }
   ],
   "source": [
    "print(\"Cabins:\")\n",
    "print(*sorted(set(titanic['Cabin'].dropna())), sep=', ')"
   ]
  },
  {
   "cell_type": "code",
   "execution_count": 19,
   "metadata": {},
   "outputs": [
    {
     "name": "stdout",
     "output_type": "stream",
     "text": [
      "Tickets without number:\n",
      "LINE\n"
     ]
    }
   ],
   "source": [
    "print(\"Tickets without number:\")\n",
    "# Unique tickets\n",
    "tickets = sorted(set(titanic['Ticket'].dropna()))\n",
    "# Tickets without a number\n",
    "tickets = [ticket for ticket in tickets if not re.search('\\d+', ticket)]\n",
    "# Only ticket without a number is the LINE ticket\n",
    "print(*tickets, sep=', ')"
   ]
  },
  {
   "cell_type": "code",
   "execution_count": 20,
   "metadata": {},
   "outputs": [
    {
     "name": "stdout",
     "output_type": "stream",
     "text": [
      "Dennis, Mr. William\n",
      "Sawyer, Mr. Frederick Charles\n",
      "Saad, Mr. Khalil\n",
      "Frolicher, Miss. Hedwig Margaritha\n",
      "Chip, Mr. Chang\n",
      "Hays, Miss. Margaret Bechstein\n",
      "Harper, Rev. John\n",
      "Thomas, Mr. John\n",
      "Smith, Mr. Thomas\n",
      "Boulos, Mrs. Joseph (Sultana)\n",
      "Harper, Mrs. Henry Sleeper (Myna Haxtun)\n",
      "Harrison, Mr. William\n",
      "Earnshaw, Mrs. Boulton (Olive Potter)\n",
      "Asplund, Master. Clarence Gustaf Hugo\n",
      "Nourney, Mr. Alfred (Baron von Drachstedt\")\"\n",
      "Vander Planke, Mr. Leo Edmondus\n",
      "Davidson, Mrs. Thornton (Orian Hays)\n",
      "Zabour, Miss. Thamine\n",
      "Ali, Mr. Ahmed\n",
      "Brandeis, Mr. Emil\n"
     ]
    }
   ],
   "source": [
    "print(*list(np.random.choice(titanic.Name, 20, replace=False)), sep='\\n')"
   ]
  },
  {
   "cell_type": "markdown",
   "metadata": {},
   "source": [
    "La variable `Name` parece seguir la siguiente estructura:\n",
    "\n",
    "    FamilyName, Title. [FirstName] [MiddleName] [\"Nick Name\"] [(MaidenName)] [(\"Nick Name\")]"
   ]
  },
  {
   "cell_type": "markdown",
   "metadata": {},
   "source": [
    "Verifiquemos los títulos disponibles."
   ]
  },
  {
   "cell_type": "code",
   "execution_count": 21,
   "metadata": {},
   "outputs": [
    {
     "name": "stdout",
     "output_type": "stream",
     "text": [
      "Capt, Col, Don, Dona, Dr, Jonkheer, Lady, Major, Master, Miss, Mlle, Mme, Mr, Mrs, Ms, Rev, Sir, the Countess\n"
     ]
    }
   ],
   "source": [
    "print(*sorted(titanic.Name.str.extract(r', ([^.]+)\\.', expand=False).unique()), sep=', ')"
   ]
  },
  {
   "cell_type": "code",
   "execution_count": 22,
   "metadata": {},
   "outputs": [
    {
     "data": {
      "text/plain": [
       "PassengerId\n",
       "760    Rothes, the Countess. of (Lucy Noel Martha Dye...\n",
       "Name: Name, dtype: object"
      ]
     },
     "execution_count": 22,
     "metadata": {},
     "output_type": "execute_result"
    }
   ],
   "source": [
    "titanic.Name[titanic.Name.str.contains('the Countess')]"
   ]
  },
  {
   "cell_type": "markdown",
   "metadata": {},
   "source": [
    "Buscamos otros errores en los nombres."
   ]
  },
  {
   "cell_type": "code",
   "execution_count": 23,
   "metadata": {},
   "outputs": [
    {
     "name": "stdout",
     "output_type": "stream",
     "text": [
      "(407, Widegren, Mr. Carl/Charles Peter), \n",
      "(760, Rothes, the Countess. of (Lucy Noel Martha Dyer-Edwards)), \n",
      "(911, Assaf Khalil, Mrs. Mariana (Miriam\")\"), \n",
      "(925, Johnston, Mrs. Andrew G (Elizabeth Lily\" Watson)\"), \n",
      "(927, Katavelas, Mr. Vassilios (Catavelas Vassilios\")\"), \n",
      "(941, Coutts, Mrs. William (Winnie Minnie\" Treanor)\"), \n",
      "(944, Hocking, Miss. Ellen Nellie\"\"), \n",
      "(996, Thomas, Mrs. Alexander (Thamine Thelma\")\"), \n",
      "(1000, Willer, Mr. Aaron (Abi Weller\")\"), \n",
      "(1036, Lindeberg-Lind, Mr. Erik Gustaf (Mr Edward Lingrey\")\"), \n",
      "(1117, Moubarek, Mrs. George (Omine Amenia\" Alexander)\"), \n",
      "(1136, Johnston, Master. William Arthur Willie\"\"), \n",
      "(1141, Khalil, Mrs. Betros (Zahie Maria\" Elias)\"), \n",
      "(1154, Wells, Mrs. Arthur Henry (Addie\" Dart Trevaskis)\"), \n",
      "(1183, Daly, Miss. Margaret Marcella Maggie\"\"), \n",
      "(1196, McCarthy, Miss. Catherine Katie\"\"), \n",
      "(1219, Rosenshine, Mr. George (Mr George Thorne\")\"), \n",
      "(1225, Nakid, Mrs. Said (Waika Mary\" Mowad)\"), \n",
      "(1246, Dean, Miss. Elizabeth Gladys Millvina\"\"), \n",
      "(1259, Riihivouri, Miss. Susanna Juhantytar Sanni\"\"), \n",
      "(1269, Cotterill, Mr. Henry Harry\"\"), \n",
      "(1276, Wheeler, Mr. Edwin Frederick\"\"), \n",
      "(1297, Nourney, Mr. Alfred (Baron von Drachstedt\")\"), \n",
      "(1300, Riordan, Miss. Johanna Hannah\"\"), \n"
     ]
    }
   ],
   "source": [
    "misspelled_names = titanic.loc[titanic.Name.str.contains('[^\\w\\s\\-\\'\".,()]|[^\\w( ]\"| of '), ['Name']]\n",
    "for row in misspelled_names.iterrows():\n",
    "    print(f'({row[0]}, {row[1].Name}), ')"
   ]
  },
  {
   "cell_type": "markdown",
   "metadata": {},
   "source": [
    "Vemos varios errores en la posición de las comillas, del punto o el uso de '/' en lugar de los paréntesis. Vamos a corregir estos nombres manualmente."
   ]
  },
  {
   "cell_type": "code",
   "execution_count": 24,
   "metadata": {},
   "outputs": [],
   "source": [
    "name_corrections = [\n",
    " (407, 'Widegren, Mr. Carl (Charles Peter)'),\n",
    " (760, 'Rothes, the Countess of. (Lucy Noel Martha Dyer-Edwards)'),\n",
    " (911, 'Assaf Khalil, Mrs. Mariana (\"Miriam\")'),\n",
    " (925, 'Johnston, Mrs. Andrew G (Elizabeth \"Lily\" Watson)'),\n",
    " (927, 'Katavelas, Mr. Vassilios (\"Catavelas Vassilios\")'),\n",
    " (941, 'Coutts, Mrs. William (Winnie \"Minnie\" Treanor)'),\n",
    " (944, 'Hocking, Miss. Ellen \"Nellie\"'),\n",
    " (996, 'Thomas, Mrs. Alexander (\"Thamine Thelma\")'),\n",
    " (1000, 'Willer, Mr. Aaron (\"Abi Weller\")'),\n",
    " (1036, 'Lindeberg-Lind, Mr. Erik Gustaf (\"Mr Edward Lingrey\")'),\n",
    " (1117, 'Moubarek, Mrs. George (Omine \"Amenia\" Alexander)'),\n",
    " (1136, 'Johnston, Master. William Arthur \"Willie\"'),\n",
    " (1141, 'Khalil, Mrs. Betros (Zahie \"Maria\" Elias)'),\n",
    " (1154, 'Wells, Mrs. Arthur Henry (\"Addie\" Dart Trevaskis)'),\n",
    " (1183, 'Daly, Miss. Margaret Marcella \"Maggie\"'),\n",
    " (1196, 'McCarthy, Miss. Catherine \"Katie\"'),\n",
    " (1219, 'Rosenshine, Mr. George (\"Mr George Thorne\")'),\n",
    " (1225, 'Nakid, Mrs. Said (Waika \"Mary\" Mowad)'),\n",
    " (1246, 'Dean, Miss. Elizabeth Gladys \"Millvina\"'),\n",
    " (1259, 'Riihivouri, Miss. Susanna Juhantytar \"Sanni\"'),\n",
    " (1269, 'Cotterill, Mr. Henry \"Harry\"'),\n",
    " (1276, 'Wheeler, Mr. Edwin \"Frederick\"'),\n",
    " (1297, 'Nourney, Mr. Alfred (\"Baron von Drachstedt\")'),\n",
    " (1300, 'Riordan, Miss. Johanna \"Hannah\"')\n",
    "]\n",
    "\n",
    "for pid, corrected_name in name_corrections:\n",
    "    titanic.loc[pid, 'Name'] = corrected_name\n",
    "\n",
    "\n",
    "assert titanic.Name.str.contains('[^\\w\\s\\-\\'\".,()]|[^\\w( ]\"| of ').any() == False"
   ]
  },
  {
   "cell_type": "markdown",
   "metadata": {},
   "source": [
    "Verifiquemos los duplicados en la variable `Name`."
   ]
  },
  {
   "cell_type": "code",
   "execution_count": 25,
   "metadata": {},
   "outputs": [
    {
     "data": {
      "text/html": [
       "<div>\n",
       "<style scoped>\n",
       "    .dataframe tbody tr th:only-of-type {\n",
       "        vertical-align: middle;\n",
       "    }\n",
       "\n",
       "    .dataframe tbody tr th {\n",
       "        vertical-align: top;\n",
       "    }\n",
       "\n",
       "    .dataframe thead th {\n",
       "        text-align: right;\n",
       "    }\n",
       "</style>\n",
       "<table border=\"1\" class=\"dataframe\">\n",
       "  <thead>\n",
       "    <tr style=\"text-align: right;\">\n",
       "      <th></th>\n",
       "      <th>Age</th>\n",
       "      <th>Cabin</th>\n",
       "      <th>Embarked</th>\n",
       "      <th>Fare</th>\n",
       "      <th>Name</th>\n",
       "      <th>Parch</th>\n",
       "      <th>Pclass</th>\n",
       "      <th>Sex</th>\n",
       "      <th>SibSp</th>\n",
       "      <th>Survived</th>\n",
       "      <th>Ticket</th>\n",
       "      <th>split</th>\n",
       "    </tr>\n",
       "    <tr>\n",
       "      <th>PassengerId</th>\n",
       "      <th></th>\n",
       "      <th></th>\n",
       "      <th></th>\n",
       "      <th></th>\n",
       "      <th></th>\n",
       "      <th></th>\n",
       "      <th></th>\n",
       "      <th></th>\n",
       "      <th></th>\n",
       "      <th></th>\n",
       "      <th></th>\n",
       "      <th></th>\n",
       "    </tr>\n",
       "  </thead>\n",
       "  <tbody>\n",
       "    <tr>\n",
       "      <th>290</th>\n",
       "      <td>22.0</td>\n",
       "      <td>NaN</td>\n",
       "      <td>Q</td>\n",
       "      <td>7.7500</td>\n",
       "      <td>Connolly, Miss. Kate</td>\n",
       "      <td>0</td>\n",
       "      <td>3</td>\n",
       "      <td>female</td>\n",
       "      <td>0</td>\n",
       "      <td>1.0</td>\n",
       "      <td>370373</td>\n",
       "      <td>train</td>\n",
       "    </tr>\n",
       "    <tr>\n",
       "      <th>898</th>\n",
       "      <td>30.0</td>\n",
       "      <td>NaN</td>\n",
       "      <td>Q</td>\n",
       "      <td>7.6292</td>\n",
       "      <td>Connolly, Miss. Kate</td>\n",
       "      <td>0</td>\n",
       "      <td>3</td>\n",
       "      <td>female</td>\n",
       "      <td>0</td>\n",
       "      <td>NaN</td>\n",
       "      <td>330972</td>\n",
       "      <td>test</td>\n",
       "    </tr>\n",
       "    <tr>\n",
       "      <th>697</th>\n",
       "      <td>44.0</td>\n",
       "      <td>NaN</td>\n",
       "      <td>S</td>\n",
       "      <td>8.0500</td>\n",
       "      <td>Kelly, Mr. James</td>\n",
       "      <td>0</td>\n",
       "      <td>3</td>\n",
       "      <td>male</td>\n",
       "      <td>0</td>\n",
       "      <td>0.0</td>\n",
       "      <td>363592</td>\n",
       "      <td>train</td>\n",
       "    </tr>\n",
       "    <tr>\n",
       "      <th>892</th>\n",
       "      <td>34.5</td>\n",
       "      <td>NaN</td>\n",
       "      <td>Q</td>\n",
       "      <td>7.8292</td>\n",
       "      <td>Kelly, Mr. James</td>\n",
       "      <td>0</td>\n",
       "      <td>3</td>\n",
       "      <td>male</td>\n",
       "      <td>0</td>\n",
       "      <td>NaN</td>\n",
       "      <td>330911</td>\n",
       "      <td>test</td>\n",
       "    </tr>\n",
       "  </tbody>\n",
       "</table>\n",
       "</div>"
      ],
      "text/plain": [
       "              Age Cabin Embarked    Fare                  Name  Parch  Pclass  \\\n",
       "PassengerId                                                                     \n",
       "290          22.0   NaN        Q  7.7500  Connolly, Miss. Kate      0       3   \n",
       "898          30.0   NaN        Q  7.6292  Connolly, Miss. Kate      0       3   \n",
       "697          44.0   NaN        S  8.0500      Kelly, Mr. James      0       3   \n",
       "892          34.5   NaN        Q  7.8292      Kelly, Mr. James      0       3   \n",
       "\n",
       "                Sex  SibSp  Survived  Ticket  split  \n",
       "PassengerId                                          \n",
       "290          female      0       1.0  370373  train  \n",
       "898          female      0       NaN  330972   test  \n",
       "697            male      0       0.0  363592  train  \n",
       "892            male      0       NaN  330911   test  "
      ]
     },
     "execution_count": 25,
     "metadata": {},
     "output_type": "execute_result"
    }
   ],
   "source": [
    "titanic[titanic.Name.duplicated(keep=False)].sort_values(['Name'])"
   ]
  },
  {
   "cell_type": "markdown",
   "metadata": {},
   "source": [
    "Hay dos nombres duplicados, con nombres y apellidos muy comunes. No hay razones para pensar que son errores."
   ]
  },
  {
   "cell_type": "markdown",
   "metadata": {},
   "source": [
    "Las variables SibSp (número de hermanos/esposos) y Parch (número de padres/hijos) son más complicadas de verificar. Están relacionadas con la estructura familiar dentro del barco y se complican porque en la época era común que las esposas adoptarán el apellido del marido. Además, la gente se divorcia o enviuda y se vuelve a casar y los nombres cambian. Por desgracia, no podemos asegurar que todos los apellidos de soltera están registrados."
   ]
  },
  {
   "cell_type": "markdown",
   "metadata": {},
   "source": [
    "Otro detalle es que para analizar las estructuras familiares es necesario trabajar con toda la población."
   ]
  },
  {
   "cell_type": "markdown",
   "metadata": {},
   "source": [
    "Por poner un ejemplo, podemos buscar disparidades dentro de los grupos con el mismo nombre de familia y mismo billete."
   ]
  },
  {
   "cell_type": "code",
   "execution_count": 26,
   "metadata": {},
   "outputs": [
    {
     "data": {
      "text/html": [
       "<div>\n",
       "<style scoped>\n",
       "    .dataframe tbody tr th:only-of-type {\n",
       "        vertical-align: middle;\n",
       "    }\n",
       "\n",
       "    .dataframe tbody tr th {\n",
       "        vertical-align: top;\n",
       "    }\n",
       "\n",
       "    .dataframe thead th {\n",
       "        text-align: right;\n",
       "    }\n",
       "</style>\n",
       "<table border=\"1\" class=\"dataframe\">\n",
       "  <thead>\n",
       "    <tr style=\"text-align: right;\">\n",
       "      <th></th>\n",
       "      <th></th>\n",
       "      <th>Age</th>\n",
       "      <th>Cabin</th>\n",
       "      <th>Embarked</th>\n",
       "      <th>Fare</th>\n",
       "      <th>Name</th>\n",
       "      <th>Parch</th>\n",
       "      <th>Pclass</th>\n",
       "      <th>Sex</th>\n",
       "      <th>SibSp</th>\n",
       "      <th>split</th>\n",
       "      <th>FamilySize</th>\n",
       "      <th>FamilyNameCount</th>\n",
       "    </tr>\n",
       "    <tr>\n",
       "      <th>FamilyName</th>\n",
       "      <th>Ticket</th>\n",
       "      <th></th>\n",
       "      <th></th>\n",
       "      <th></th>\n",
       "      <th></th>\n",
       "      <th></th>\n",
       "      <th></th>\n",
       "      <th></th>\n",
       "      <th></th>\n",
       "      <th></th>\n",
       "      <th></th>\n",
       "      <th></th>\n",
       "      <th></th>\n",
       "    </tr>\n",
       "  </thead>\n",
       "  <tbody>\n",
       "    <tr>\n",
       "      <th rowspan=\"2\" valign=\"top\">Beckwith</th>\n",
       "      <th>11751</th>\n",
       "      <td>37.0</td>\n",
       "      <td>D35</td>\n",
       "      <td>S</td>\n",
       "      <td>52.5542</td>\n",
       "      <td>Beckwith, Mr. Richard Leonard</td>\n",
       "      <td>1</td>\n",
       "      <td>1</td>\n",
       "      <td>male</td>\n",
       "      <td>1</td>\n",
       "      <td>train</td>\n",
       "      <td>3</td>\n",
       "      <td>2</td>\n",
       "    </tr>\n",
       "    <tr>\n",
       "      <th>11751</th>\n",
       "      <td>47.0</td>\n",
       "      <td>D35</td>\n",
       "      <td>S</td>\n",
       "      <td>52.5542</td>\n",
       "      <td>Beckwith, Mrs. Richard Leonard (Sallie Monypeny)</td>\n",
       "      <td>1</td>\n",
       "      <td>1</td>\n",
       "      <td>female</td>\n",
       "      <td>1</td>\n",
       "      <td>train</td>\n",
       "      <td>3</td>\n",
       "      <td>2</td>\n",
       "    </tr>\n",
       "    <tr>\n",
       "      <th rowspan=\"2\" valign=\"top\">Bourke</th>\n",
       "      <th>364849</th>\n",
       "      <td>40.0</td>\n",
       "      <td>NaN</td>\n",
       "      <td>Q</td>\n",
       "      <td>15.5000</td>\n",
       "      <td>Bourke, Mr. John</td>\n",
       "      <td>1</td>\n",
       "      <td>3</td>\n",
       "      <td>male</td>\n",
       "      <td>1</td>\n",
       "      <td>train</td>\n",
       "      <td>3</td>\n",
       "      <td>2</td>\n",
       "    </tr>\n",
       "    <tr>\n",
       "      <th>364849</th>\n",
       "      <td>32.0</td>\n",
       "      <td>NaN</td>\n",
       "      <td>Q</td>\n",
       "      <td>15.5000</td>\n",
       "      <td>Bourke, Mrs. John (Catherine)</td>\n",
       "      <td>1</td>\n",
       "      <td>3</td>\n",
       "      <td>female</td>\n",
       "      <td>1</td>\n",
       "      <td>train</td>\n",
       "      <td>3</td>\n",
       "      <td>2</td>\n",
       "    </tr>\n",
       "  </tbody>\n",
       "</table>\n",
       "</div>"
      ],
      "text/plain": [
       "                    Age Cabin Embarked     Fare  \\\n",
       "FamilyName Ticket                                 \n",
       "Beckwith   11751   37.0   D35        S  52.5542   \n",
       "           11751   47.0   D35        S  52.5542   \n",
       "Bourke     364849  40.0   NaN        Q  15.5000   \n",
       "           364849  32.0   NaN        Q  15.5000   \n",
       "\n",
       "                                                               Name  Parch  \\\n",
       "FamilyName Ticket                                                            \n",
       "Beckwith   11751                      Beckwith, Mr. Richard Leonard      1   \n",
       "           11751   Beckwith, Mrs. Richard Leonard (Sallie Monypeny)      1   \n",
       "Bourke     364849                                  Bourke, Mr. John      1   \n",
       "           364849                     Bourke, Mrs. John (Catherine)      1   \n",
       "\n",
       "                   Pclass     Sex  SibSp  split  FamilySize  FamilyNameCount  \n",
       "FamilyName Ticket                                                             \n",
       "Beckwith   11751        1    male      1  train           3                2  \n",
       "           11751        1  female      1  train           3                2  \n",
       "Bourke     364849       3    male      1  train           3                2  \n",
       "           364849       3  female      1  train           3                2  "
      ]
     },
     "execution_count": 26,
     "metadata": {},
     "output_type": "execute_result"
    }
   ],
   "source": [
    "x = titanic.drop(columns=['Survived']).copy()\n",
    "\n",
    "# family name feature\n",
    "x['FamilyName'] = x.Name.str.extract(r'([^,]+),')\n",
    "# basic family size (no aunts, uncles, cousins, etc.)\n",
    "x['FamilySize'] = x['SibSp'] + x['Parch'] + 1\n",
    "# look for families traveling with the same ticket\n",
    "z = (x.groupby(['FamilyName', 'Ticket'])['FamilyName'].count()\n",
    "      .to_frame()\n",
    "      .rename(columns={'FamilyName': 'FamilyNameCount'})\n",
    "      .reset_index())\n",
    "x = x.merge(z,\n",
    "        how='left', on=['FamilyName', 'Ticket'])\n",
    "# Look for disparities in the group\n",
    "x = x[x.FamilyNameCount != x.FamilySize]\n",
    "x = x[x.duplicated(['FamilyName', 'Ticket', 'Embarked', 'Pclass', 'Fare', 'Cabin'], keep=False)]\n",
    "x.set_index(['FamilyName', 'Ticket']).sort_index().head(4)"
   ]
  },
  {
   "cell_type": "markdown",
   "metadata": {},
   "source": [
    "Tomemos el primer caso, el matrimonio Beckwith. Parece que un padre o un hijo también viajaba en el barco, pero estos son los únicos Beckwith en la lista."
   ]
  },
  {
   "cell_type": "code",
   "execution_count": 27,
   "metadata": {},
   "outputs": [
    {
     "data": {
      "text/plain": [
       "2"
      ]
     },
     "execution_count": 27,
     "metadata": {},
     "output_type": "execute_result"
    }
   ],
   "source": [
    "titanic.Name.str.startswith('Beckwith,').sum()"
   ]
  },
  {
   "cell_type": "markdown",
   "metadata": {},
   "source": [
    "Podemos probar con el nombre de soltera de la madre. Pero no hay suerte."
   ]
  },
  {
   "cell_type": "code",
   "execution_count": 28,
   "metadata": {},
   "outputs": [
    {
     "data": {
      "text/plain": [
       "0"
      ]
     },
     "execution_count": 28,
     "metadata": {},
     "output_type": "execute_result"
    }
   ],
   "source": [
    "titanic.Name.str.startswith('Monypeny,').sum()"
   ]
  },
  {
   "cell_type": "markdown",
   "metadata": {},
   "source": [
    "Pero si extendemos la búsqueda más allá de los nombres de familia, encontramos a la que seguramente era su hija, Miss. Helen Monypeny, con apellido Newsom. Quizás hija de un matrimonio anterior."
   ]
  },
  {
   "cell_type": "code",
   "execution_count": 29,
   "metadata": {},
   "outputs": [
    {
     "data": {
      "text/html": [
       "<div>\n",
       "<style scoped>\n",
       "    .dataframe tbody tr th:only-of-type {\n",
       "        vertical-align: middle;\n",
       "    }\n",
       "\n",
       "    .dataframe tbody tr th {\n",
       "        vertical-align: top;\n",
       "    }\n",
       "\n",
       "    .dataframe thead th {\n",
       "        text-align: right;\n",
       "    }\n",
       "</style>\n",
       "<table border=\"1\" class=\"dataframe\">\n",
       "  <thead>\n",
       "    <tr style=\"text-align: right;\">\n",
       "      <th></th>\n",
       "      <th>Age</th>\n",
       "      <th>Cabin</th>\n",
       "      <th>Embarked</th>\n",
       "      <th>Fare</th>\n",
       "      <th>Name</th>\n",
       "      <th>Parch</th>\n",
       "      <th>Pclass</th>\n",
       "      <th>Sex</th>\n",
       "      <th>SibSp</th>\n",
       "      <th>Survived</th>\n",
       "      <th>Ticket</th>\n",
       "      <th>split</th>\n",
       "    </tr>\n",
       "    <tr>\n",
       "      <th>PassengerId</th>\n",
       "      <th></th>\n",
       "      <th></th>\n",
       "      <th></th>\n",
       "      <th></th>\n",
       "      <th></th>\n",
       "      <th></th>\n",
       "      <th></th>\n",
       "      <th></th>\n",
       "      <th></th>\n",
       "      <th></th>\n",
       "      <th></th>\n",
       "      <th></th>\n",
       "    </tr>\n",
       "  </thead>\n",
       "  <tbody>\n",
       "    <tr>\n",
       "      <th>137</th>\n",
       "      <td>19.0</td>\n",
       "      <td>D47</td>\n",
       "      <td>S</td>\n",
       "      <td>26.2833</td>\n",
       "      <td>Newsom, Miss. Helen Monypeny</td>\n",
       "      <td>2</td>\n",
       "      <td>1</td>\n",
       "      <td>female</td>\n",
       "      <td>0</td>\n",
       "      <td>1.0</td>\n",
       "      <td>11752</td>\n",
       "      <td>train</td>\n",
       "    </tr>\n",
       "    <tr>\n",
       "      <th>872</th>\n",
       "      <td>47.0</td>\n",
       "      <td>D35</td>\n",
       "      <td>S</td>\n",
       "      <td>52.5542</td>\n",
       "      <td>Beckwith, Mrs. Richard Leonard (Sallie Monypeny)</td>\n",
       "      <td>1</td>\n",
       "      <td>1</td>\n",
       "      <td>female</td>\n",
       "      <td>1</td>\n",
       "      <td>1.0</td>\n",
       "      <td>11751</td>\n",
       "      <td>train</td>\n",
       "    </tr>\n",
       "  </tbody>\n",
       "</table>\n",
       "</div>"
      ],
      "text/plain": [
       "              Age Cabin Embarked     Fare  \\\n",
       "PassengerId                                 \n",
       "137          19.0   D47        S  26.2833   \n",
       "872          47.0   D35        S  52.5542   \n",
       "\n",
       "                                                         Name  Parch  Pclass  \\\n",
       "PassengerId                                                                    \n",
       "137                              Newsom, Miss. Helen Monypeny      2       1   \n",
       "872          Beckwith, Mrs. Richard Leonard (Sallie Monypeny)      1       1   \n",
       "\n",
       "                Sex  SibSp  Survived Ticket  split  \n",
       "PassengerId                                         \n",
       "137          female      0       1.0  11752  train  \n",
       "872          female      1       1.0  11751  train  "
      ]
     },
     "execution_count": 29,
     "metadata": {},
     "output_type": "execute_result"
    }
   ],
   "source": [
    "titanic[titanic.Name.str.contains('Monypeny')]"
   ]
  },
  {
   "cell_type": "markdown",
   "metadata": {},
   "source": [
    "Vamos a asumir que estas variables son correctas por ahora, y volveremos sobre las familias en el análisis."
   ]
  },
  {
   "cell_type": "markdown",
   "metadata": {},
   "source": [
    "### Datos perdidos y valores extremos"
   ]
  },
  {
   "cell_type": "markdown",
   "metadata": {},
   "source": [
    "Buscamos datos nulos, marcados como `NaN` o `None`, usando la función `DataFrame.isnull`. Esta función no da positivo en las cadenas vacías, pero `read_csv` las convierte automáticamente en `NaN`. De todas formas podemos verificar que no hay ninguna."
   ]
  },
  {
   "cell_type": "code",
   "execution_count": 30,
   "metadata": {},
   "outputs": [],
   "source": [
    "assert not titanic.eq('').any().any()"
   ]
  },
  {
   "cell_type": "code",
   "execution_count": 31,
   "metadata": {},
   "outputs": [
    {
     "data": {
      "text/html": [
       "<div>\n",
       "<style scoped>\n",
       "    .dataframe tbody tr th:only-of-type {\n",
       "        vertical-align: middle;\n",
       "    }\n",
       "\n",
       "    .dataframe tbody tr th {\n",
       "        vertical-align: top;\n",
       "    }\n",
       "\n",
       "    .dataframe thead th {\n",
       "        text-align: right;\n",
       "    }\n",
       "</style>\n",
       "<table border=\"1\" class=\"dataframe\">\n",
       "  <thead>\n",
       "    <tr style=\"text-align: right;\">\n",
       "      <th></th>\n",
       "      <th>nulls</th>\n",
       "      <th>percent</th>\n",
       "    </tr>\n",
       "  </thead>\n",
       "  <tbody>\n",
       "    <tr>\n",
       "      <th>Age</th>\n",
       "      <td>263</td>\n",
       "      <td>20.1</td>\n",
       "    </tr>\n",
       "    <tr>\n",
       "      <th>Cabin</th>\n",
       "      <td>1014</td>\n",
       "      <td>77.5</td>\n",
       "    </tr>\n",
       "    <tr>\n",
       "      <th>Embarked</th>\n",
       "      <td>2</td>\n",
       "      <td>0.2</td>\n",
       "    </tr>\n",
       "    <tr>\n",
       "      <th>Fare</th>\n",
       "      <td>1</td>\n",
       "      <td>0.1</td>\n",
       "    </tr>\n",
       "    <tr>\n",
       "      <th>Name</th>\n",
       "      <td>0</td>\n",
       "      <td>0.0</td>\n",
       "    </tr>\n",
       "    <tr>\n",
       "      <th>Parch</th>\n",
       "      <td>0</td>\n",
       "      <td>0.0</td>\n",
       "    </tr>\n",
       "    <tr>\n",
       "      <th>Pclass</th>\n",
       "      <td>0</td>\n",
       "      <td>0.0</td>\n",
       "    </tr>\n",
       "    <tr>\n",
       "      <th>Sex</th>\n",
       "      <td>0</td>\n",
       "      <td>0.0</td>\n",
       "    </tr>\n",
       "    <tr>\n",
       "      <th>SibSp</th>\n",
       "      <td>0</td>\n",
       "      <td>0.0</td>\n",
       "    </tr>\n",
       "    <tr>\n",
       "      <th>Survived</th>\n",
       "      <td>418</td>\n",
       "      <td>31.9</td>\n",
       "    </tr>\n",
       "    <tr>\n",
       "      <th>Ticket</th>\n",
       "      <td>0</td>\n",
       "      <td>0.0</td>\n",
       "    </tr>\n",
       "    <tr>\n",
       "      <th>split</th>\n",
       "      <td>0</td>\n",
       "      <td>0.0</td>\n",
       "    </tr>\n",
       "  </tbody>\n",
       "</table>\n",
       "</div>"
      ],
      "text/plain": [
       "          nulls  percent\n",
       "Age         263     20.1\n",
       "Cabin      1014     77.5\n",
       "Embarked      2      0.2\n",
       "Fare          1      0.1\n",
       "Name          0      0.0\n",
       "Parch         0      0.0\n",
       "Pclass        0      0.0\n",
       "Sex           0      0.0\n",
       "SibSp         0      0.0\n",
       "Survived    418     31.9\n",
       "Ticket        0      0.0\n",
       "split         0      0.0"
      ]
     },
     "metadata": {},
     "output_type": "display_data"
    }
   ],
   "source": [
    "null_df = titanic.isnull().sum().to_frame()\n",
    "null_df.columns = ['nulls']\n",
    "null_df['percent'] = round(null_df.nulls / len(titanic) * 100, 1)\n",
    "display(null_df)"
   ]
  },
  {
   "cell_type": "markdown",
   "metadata": {},
   "source": [
    "Un 20% de los datos de edad y un 77-78% de los datos de camarotes son nulos en ambos datasets. Además, se han perdido 1 tarifa y 2 embarques."
   ]
  },
  {
   "cell_type": "markdown",
   "metadata": {},
   "source": [
    "Además de datos marcados como `NaN` o `None`, puede haber datos perdidos marcados con otros valores que `isnull` no considera nulos."
   ]
  },
  {
   "cell_type": "markdown",
   "metadata": {},
   "source": [
    "Esta es la lista de pasajeros con billete sin tarifa. Como se ha dicho, este valor está dentro de la población. Por ejemplo, Mr. Joseph Bruce Ismay era el dueño del Titanic, es de suponer que no pagó por su billete."
   ]
  },
  {
   "cell_type": "code",
   "execution_count": 32,
   "metadata": {},
   "outputs": [
    {
     "data": {
      "text/html": [
       "<div>\n",
       "<style scoped>\n",
       "    .dataframe tbody tr th:only-of-type {\n",
       "        vertical-align: middle;\n",
       "    }\n",
       "\n",
       "    .dataframe tbody tr th {\n",
       "        vertical-align: top;\n",
       "    }\n",
       "\n",
       "    .dataframe thead th {\n",
       "        text-align: right;\n",
       "    }\n",
       "</style>\n",
       "<table border=\"1\" class=\"dataframe\">\n",
       "  <thead>\n",
       "    <tr style=\"text-align: right;\">\n",
       "      <th></th>\n",
       "      <th>Name</th>\n",
       "      <th>Pclass</th>\n",
       "      <th>Ticket</th>\n",
       "      <th>Cabin</th>\n",
       "    </tr>\n",
       "    <tr>\n",
       "      <th>PassengerId</th>\n",
       "      <th></th>\n",
       "      <th></th>\n",
       "      <th></th>\n",
       "      <th></th>\n",
       "    </tr>\n",
       "  </thead>\n",
       "  <tbody>\n",
       "    <tr>\n",
       "      <th>1264</th>\n",
       "      <td>Ismay, Mr. Joseph Bruce</td>\n",
       "      <td>1</td>\n",
       "      <td>112058</td>\n",
       "      <td>B52 B54 B56</td>\n",
       "    </tr>\n",
       "    <tr>\n",
       "      <th>264</th>\n",
       "      <td>Harrison, Mr. William</td>\n",
       "      <td>1</td>\n",
       "      <td>112059</td>\n",
       "      <td>B94</td>\n",
       "    </tr>\n",
       "    <tr>\n",
       "      <th>823</th>\n",
       "      <td>Reuchlin, Jonkheer. John George</td>\n",
       "      <td>1</td>\n",
       "      <td>19972</td>\n",
       "      <td>NaN</td>\n",
       "    </tr>\n",
       "    <tr>\n",
       "      <th>816</th>\n",
       "      <td>Fry, Mr. Richard</td>\n",
       "      <td>1</td>\n",
       "      <td>112058</td>\n",
       "      <td>B102</td>\n",
       "    </tr>\n",
       "    <tr>\n",
       "      <th>1158</th>\n",
       "      <td>Chisholm, Mr. Roderick Robert Crispin</td>\n",
       "      <td>1</td>\n",
       "      <td>112051</td>\n",
       "      <td>NaN</td>\n",
       "    </tr>\n",
       "    <tr>\n",
       "      <th>634</th>\n",
       "      <td>Parr, Mr. William Henry Marsh</td>\n",
       "      <td>1</td>\n",
       "      <td>112052</td>\n",
       "      <td>NaN</td>\n",
       "    </tr>\n",
       "    <tr>\n",
       "      <th>807</th>\n",
       "      <td>Andrews, Mr. Thomas Jr</td>\n",
       "      <td>1</td>\n",
       "      <td>112050</td>\n",
       "      <td>A36</td>\n",
       "    </tr>\n",
       "    <tr>\n",
       "      <th>278</th>\n",
       "      <td>Parkes, Mr. Francis \"Frank\"</td>\n",
       "      <td>2</td>\n",
       "      <td>239853</td>\n",
       "      <td>NaN</td>\n",
       "    </tr>\n",
       "    <tr>\n",
       "      <th>414</th>\n",
       "      <td>Cunningham, Mr. Alfred Fleming</td>\n",
       "      <td>2</td>\n",
       "      <td>239853</td>\n",
       "      <td>NaN</td>\n",
       "    </tr>\n",
       "    <tr>\n",
       "      <th>467</th>\n",
       "      <td>Campbell, Mr. William</td>\n",
       "      <td>2</td>\n",
       "      <td>239853</td>\n",
       "      <td>NaN</td>\n",
       "    </tr>\n",
       "    <tr>\n",
       "      <th>482</th>\n",
       "      <td>Frost, Mr. Anthony Wood \"Archie\"</td>\n",
       "      <td>2</td>\n",
       "      <td>239854</td>\n",
       "      <td>NaN</td>\n",
       "    </tr>\n",
       "    <tr>\n",
       "      <th>675</th>\n",
       "      <td>Watson, Mr. Ennis Hastings</td>\n",
       "      <td>2</td>\n",
       "      <td>239856</td>\n",
       "      <td>NaN</td>\n",
       "    </tr>\n",
       "    <tr>\n",
       "      <th>733</th>\n",
       "      <td>Knight, Mr. Robert J</td>\n",
       "      <td>2</td>\n",
       "      <td>239855</td>\n",
       "      <td>NaN</td>\n",
       "    </tr>\n",
       "    <tr>\n",
       "      <th>180</th>\n",
       "      <td>Leonard, Mr. Lionel</td>\n",
       "      <td>3</td>\n",
       "      <td>LINE</td>\n",
       "      <td>NaN</td>\n",
       "    </tr>\n",
       "    <tr>\n",
       "      <th>272</th>\n",
       "      <td>Tornquist, Mr. William Henry</td>\n",
       "      <td>3</td>\n",
       "      <td>LINE</td>\n",
       "      <td>NaN</td>\n",
       "    </tr>\n",
       "    <tr>\n",
       "      <th>303</th>\n",
       "      <td>Johnson, Mr. William Cahoone Jr</td>\n",
       "      <td>3</td>\n",
       "      <td>LINE</td>\n",
       "      <td>NaN</td>\n",
       "    </tr>\n",
       "    <tr>\n",
       "      <th>598</th>\n",
       "      <td>Johnson, Mr. Alfred</td>\n",
       "      <td>3</td>\n",
       "      <td>LINE</td>\n",
       "      <td>NaN</td>\n",
       "    </tr>\n",
       "  </tbody>\n",
       "</table>\n",
       "</div>"
      ],
      "text/plain": [
       "                                              Name  Pclass  Ticket  \\\n",
       "PassengerId                                                          \n",
       "1264                       Ismay, Mr. Joseph Bruce       1  112058   \n",
       "264                          Harrison, Mr. William       1  112059   \n",
       "823                Reuchlin, Jonkheer. John George       1   19972   \n",
       "816                               Fry, Mr. Richard       1  112058   \n",
       "1158         Chisholm, Mr. Roderick Robert Crispin       1  112051   \n",
       "634                  Parr, Mr. William Henry Marsh       1  112052   \n",
       "807                         Andrews, Mr. Thomas Jr       1  112050   \n",
       "278                    Parkes, Mr. Francis \"Frank\"       2  239853   \n",
       "414                 Cunningham, Mr. Alfred Fleming       2  239853   \n",
       "467                          Campbell, Mr. William       2  239853   \n",
       "482               Frost, Mr. Anthony Wood \"Archie\"       2  239854   \n",
       "675                     Watson, Mr. Ennis Hastings       2  239856   \n",
       "733                           Knight, Mr. Robert J       2  239855   \n",
       "180                            Leonard, Mr. Lionel       3    LINE   \n",
       "272                   Tornquist, Mr. William Henry       3    LINE   \n",
       "303                Johnson, Mr. William Cahoone Jr       3    LINE   \n",
       "598                            Johnson, Mr. Alfred       3    LINE   \n",
       "\n",
       "                   Cabin  \n",
       "PassengerId               \n",
       "1264         B52 B54 B56  \n",
       "264                  B94  \n",
       "823                  NaN  \n",
       "816                 B102  \n",
       "1158                 NaN  \n",
       "634                  NaN  \n",
       "807                  A36  \n",
       "278                  NaN  \n",
       "414                  NaN  \n",
       "467                  NaN  \n",
       "482                  NaN  \n",
       "675                  NaN  \n",
       "733                  NaN  \n",
       "180                  NaN  \n",
       "272                  NaN  \n",
       "303                  NaN  \n",
       "598                  NaN  "
      ]
     },
     "metadata": {},
     "output_type": "display_data"
    }
   ],
   "source": [
    "display(titanic[titanic['Fare'].eq(0)].sort_values('Pclass')[['Name', 'Pclass', 'Ticket', 'Cabin']])"
   ]
  },
  {
   "cell_type": "markdown",
   "metadata": {},
   "source": [
    "Analizemos las variables `Fare` y `Age` con más detalle en busca de valores extremos. Podemos empezar representando los histogramas y las estimaciones de las funciones de densidad."
   ]
  },
  {
   "cell_type": "code",
   "execution_count": 33,
   "metadata": {},
   "outputs": [
    {
     "data": {
      "image/png": "[encoded data removed]",
      "text/plain": [
       "<Figure size 1008x288 with 2 Axes>"
      ]
     },
     "metadata": {},
     "output_type": "display_data"
    }
   ],
   "source": [
    "fig, axes = plt.subplots(1, 2, figsize=(14, 4))\n",
    "sea.distplot(titanic['Fare'].dropna(), ax=axes[0]);\n",
    "sea.distplot(titanic['Age'].dropna(), ax=axes[1])\n",
    "sea.despine(left=True)\n",
    "plt.show()"
   ]
  },
  {
   "cell_type": "markdown",
   "metadata": {},
   "source": [
    "En la variable `Fare` ya habíamos visto que había una larga cola con un valor extremo de 512.3292 libras (equivalente a 57380.87 GBP de 2018)."
   ]
  },
  {
   "cell_type": "code",
   "execution_count": 34,
   "metadata": {},
   "outputs": [
    {
     "data": {
      "text/html": [
       "<div>\n",
       "<style scoped>\n",
       "    .dataframe tbody tr th:only-of-type {\n",
       "        vertical-align: middle;\n",
       "    }\n",
       "\n",
       "    .dataframe tbody tr th {\n",
       "        vertical-align: top;\n",
       "    }\n",
       "\n",
       "    .dataframe thead th {\n",
       "        text-align: right;\n",
       "    }\n",
       "</style>\n",
       "<table border=\"1\" class=\"dataframe\">\n",
       "  <thead>\n",
       "    <tr style=\"text-align: right;\">\n",
       "      <th></th>\n",
       "      <th>Age</th>\n",
       "      <th>Cabin</th>\n",
       "      <th>Embarked</th>\n",
       "      <th>Fare</th>\n",
       "      <th>Name</th>\n",
       "      <th>Parch</th>\n",
       "      <th>Pclass</th>\n",
       "      <th>Sex</th>\n",
       "      <th>SibSp</th>\n",
       "      <th>Survived</th>\n",
       "      <th>Ticket</th>\n",
       "      <th>split</th>\n",
       "    </tr>\n",
       "    <tr>\n",
       "      <th>PassengerId</th>\n",
       "      <th></th>\n",
       "      <th></th>\n",
       "      <th></th>\n",
       "      <th></th>\n",
       "      <th></th>\n",
       "      <th></th>\n",
       "      <th></th>\n",
       "      <th></th>\n",
       "      <th></th>\n",
       "      <th></th>\n",
       "      <th></th>\n",
       "      <th></th>\n",
       "    </tr>\n",
       "  </thead>\n",
       "  <tbody>\n",
       "    <tr>\n",
       "      <th>259</th>\n",
       "      <td>35.0</td>\n",
       "      <td>NaN</td>\n",
       "      <td>C</td>\n",
       "      <td>512.3292</td>\n",
       "      <td>Ward, Miss. Anna</td>\n",
       "      <td>0</td>\n",
       "      <td>1</td>\n",
       "      <td>female</td>\n",
       "      <td>0</td>\n",
       "      <td>1.0</td>\n",
       "      <td>PC 17755</td>\n",
       "      <td>train</td>\n",
       "    </tr>\n",
       "    <tr>\n",
       "      <th>680</th>\n",
       "      <td>36.0</td>\n",
       "      <td>B51 B53 B55</td>\n",
       "      <td>C</td>\n",
       "      <td>512.3292</td>\n",
       "      <td>Cardeza, Mr. Thomas Drake Martinez</td>\n",
       "      <td>1</td>\n",
       "      <td>1</td>\n",
       "      <td>male</td>\n",
       "      <td>0</td>\n",
       "      <td>1.0</td>\n",
       "      <td>PC 17755</td>\n",
       "      <td>train</td>\n",
       "    </tr>\n",
       "    <tr>\n",
       "      <th>738</th>\n",
       "      <td>35.0</td>\n",
       "      <td>B101</td>\n",
       "      <td>C</td>\n",
       "      <td>512.3292</td>\n",
       "      <td>Lesurer, Mr. Gustave J</td>\n",
       "      <td>0</td>\n",
       "      <td>1</td>\n",
       "      <td>male</td>\n",
       "      <td>0</td>\n",
       "      <td>1.0</td>\n",
       "      <td>PC 17755</td>\n",
       "      <td>train</td>\n",
       "    </tr>\n",
       "    <tr>\n",
       "      <th>1235</th>\n",
       "      <td>58.0</td>\n",
       "      <td>B51 B53 B55</td>\n",
       "      <td>C</td>\n",
       "      <td>512.3292</td>\n",
       "      <td>Cardeza, Mrs. James Warburton Martinez (Charlo...</td>\n",
       "      <td>1</td>\n",
       "      <td>1</td>\n",
       "      <td>female</td>\n",
       "      <td>0</td>\n",
       "      <td>NaN</td>\n",
       "      <td>PC 17755</td>\n",
       "      <td>test</td>\n",
       "    </tr>\n",
       "  </tbody>\n",
       "</table>\n",
       "</div>"
      ],
      "text/plain": [
       "              Age        Cabin Embarked      Fare  \\\n",
       "PassengerId                                         \n",
       "259          35.0          NaN        C  512.3292   \n",
       "680          36.0  B51 B53 B55        C  512.3292   \n",
       "738          35.0         B101        C  512.3292   \n",
       "1235         58.0  B51 B53 B55        C  512.3292   \n",
       "\n",
       "                                                          Name  Parch  Pclass  \\\n",
       "PassengerId                                                                     \n",
       "259                                           Ward, Miss. Anna      0       1   \n",
       "680                         Cardeza, Mr. Thomas Drake Martinez      1       1   \n",
       "738                                     Lesurer, Mr. Gustave J      0       1   \n",
       "1235         Cardeza, Mrs. James Warburton Martinez (Charlo...      1       1   \n",
       "\n",
       "                Sex  SibSp  Survived    Ticket  split  \n",
       "PassengerId                                            \n",
       "259          female      0       1.0  PC 17755  train  \n",
       "680            male      0       1.0  PC 17755  train  \n",
       "738            male      0       1.0  PC 17755  train  \n",
       "1235         female      0       NaN  PC 17755   test  "
      ]
     },
     "execution_count": 34,
     "metadata": {},
     "output_type": "execute_result"
    }
   ],
   "source": [
    "titanic[titanic['Fare'].gt(300)]"
   ]
  },
  {
   "cell_type": "markdown",
   "metadata": {},
   "source": [
    "Esta tarifa corresponde con un ticket compartido por varias personas ocupando 4 ó 5 camarotes. Es un valor extremo, pero dentro de la población."
   ]
  },
  {
   "cell_type": "markdown",
   "metadata": {},
   "source": [
    "En las distribuciones de edad no vemos ningún valor anómalo. Destaca, sin embargo, el enorme número de niños, como podemos ver en la siguiente gráfica donde se agrupa la población, separada por sexo, en varias categorías de edad."
   ]
  },
  {
   "cell_type": "code",
   "execution_count": 35,
   "metadata": {},
   "outputs": [
    {
     "data": {
      "image/png": "[encoded data removed]",
      "text/plain": [
       "<Figure size 720x360 with 1 Axes>"
      ]
     },
     "metadata": {},
     "output_type": "display_data"
    }
   ],
   "source": [
    "age_bins = range(0, 95, 15)\n",
    "sex_bins = {}\n",
    "for i, sex in enumerate(['male', 'female']):\n",
    "    df = titanic[titanic['Sex'] == sex]\n",
    "    bins = df.groupby(pd.cut(df['Age'], age_bins, right=False))['Age'].count()\n",
    "    bins = bins.rename('count').to_frame()\n",
    "    sex_bins[sex] = bins\n",
    "sex_bins['female_stacked'] = sex_bins['male'] + sex_bins['female']\n",
    "\n",
    "N = len(titanic)\n",
    "\n",
    "fig, ax = plt.subplots(1, 1, figsize=(10, 5))\n",
    "(sex_bins['female_stacked']/N).plot.bar(ax=ax, color='g', label='female', legend=None)\n",
    "(sex_bins['male']/N).plot.bar(ax=ax, color='b', label='male', legend=None);\n",
    "ax.legend(['female', 'male']);\n",
    "ax.set_ylabel('freq');\n",
    "sea.despine(left=True);"
   ]
  },
  {
   "cell_type": "markdown",
   "metadata": {},
   "source": [
    "No vamos a hacer nada respecto a los valores extremos encontrados porque son valores dentro de la población y pueden aportar información significativa de cara a predecir la supervivencia. Otro caso es el de los valores perdidos; estos tenemos que tratarlos."
   ]
  },
  {
   "cell_type": "markdown",
   "metadata": {},
   "source": [
    "### Variable Embarked "
   ]
  },
  {
   "cell_type": "markdown",
   "metadata": {},
   "source": [
    "La distribución de esta variable en el conjunto de entrenamiento es la siguiente."
   ]
  },
  {
   "cell_type": "code",
   "execution_count": 36,
   "metadata": {},
   "outputs": [
    {
     "data": {
      "image/png": "[encoded data removed]",
      "text/plain": [
       "<Figure size 360x216 with 1 Axes>"
      ]
     },
     "metadata": {},
     "output_type": "display_data"
    }
   ],
   "source": [
    "titanic.groupby('Embarked')['Ticket'].size().plot.bar(figsize=(5, 3));\n",
    "sea.despine(left=True)"
   ]
  },
  {
   "cell_type": "markdown",
   "metadata": {},
   "source": [
    "Como el número de datos perdidos es pequeño, podemos imputar usando la *moda* (el valor más frecuente) de la muestra: Southampton ('S'). "
   ]
  },
  {
   "cell_type": "markdown",
   "metadata": {},
   "source": [
    "Antes de imputar los valores, vamos a añadir una variable binaria al dataset que nos permita mantener un registro de los valores que han sido imputados en caso de que sea necesario en el análisis. Llamamos a esta variable `Embarked_Imputed`."
   ]
  },
  {
   "cell_type": "code",
   "execution_count": 37,
   "metadata": {},
   "outputs": [],
   "source": [
    "titanic['Embarked_Imputed'] = titanic['Embarked'].isnull()"
   ]
  },
  {
   "cell_type": "markdown",
   "metadata": {},
   "source": [
    "Imputamos la moda en los valores perdidos con la función `fillna`."
   ]
  },
  {
   "cell_type": "code",
   "execution_count": 38,
   "metadata": {},
   "outputs": [],
   "source": [
    "titanic['Embarked'].fillna(titanic.Embarked.mode()[0], inplace=True)\n",
    "assert not titanic['Embarked'].isnull().any()"
   ]
  },
  {
   "cell_type": "code",
   "execution_count": 39,
   "metadata": {},
   "outputs": [
    {
     "data": {
      "text/html": [
       "<div>\n",
       "<style scoped>\n",
       "    .dataframe tbody tr th:only-of-type {\n",
       "        vertical-align: middle;\n",
       "    }\n",
       "\n",
       "    .dataframe tbody tr th {\n",
       "        vertical-align: top;\n",
       "    }\n",
       "\n",
       "    .dataframe thead th {\n",
       "        text-align: right;\n",
       "    }\n",
       "</style>\n",
       "<table border=\"1\" class=\"dataframe\">\n",
       "  <thead>\n",
       "    <tr style=\"text-align: right;\">\n",
       "      <th></th>\n",
       "      <th>Embarked</th>\n",
       "    </tr>\n",
       "    <tr>\n",
       "      <th>PassengerId</th>\n",
       "      <th></th>\n",
       "    </tr>\n",
       "  </thead>\n",
       "  <tbody>\n",
       "    <tr>\n",
       "      <th>62</th>\n",
       "      <td>S</td>\n",
       "    </tr>\n",
       "    <tr>\n",
       "      <th>830</th>\n",
       "      <td>S</td>\n",
       "    </tr>\n",
       "  </tbody>\n",
       "</table>\n",
       "</div>"
      ],
      "text/plain": [
       "            Embarked\n",
       "PassengerId         \n",
       "62                 S\n",
       "830                S"
      ]
     },
     "execution_count": 39,
     "metadata": {},
     "output_type": "execute_result"
    }
   ],
   "source": [
    "titanic[['Embarked']][titanic.Embarked_Imputed]"
   ]
  },
  {
   "cell_type": "markdown",
   "metadata": {},
   "source": [
    "### Variable Fare "
   ]
  },
  {
   "cell_type": "markdown",
   "metadata": {},
   "source": [
    "Para esta variable solo tenemos un caso perdido en el conjunto de evaluación, podemos imputarlo a partir de la distribución de tarifas en el dataset. "
   ]
  },
  {
   "cell_type": "code",
   "execution_count": 40,
   "metadata": {},
   "outputs": [
    {
     "data": {
      "text/html": [
       "<div>\n",
       "<style scoped>\n",
       "    .dataframe tbody tr th:only-of-type {\n",
       "        vertical-align: middle;\n",
       "    }\n",
       "\n",
       "    .dataframe tbody tr th {\n",
       "        vertical-align: top;\n",
       "    }\n",
       "\n",
       "    .dataframe thead th {\n",
       "        text-align: right;\n",
       "    }\n",
       "</style>\n",
       "<table border=\"1\" class=\"dataframe\">\n",
       "  <thead>\n",
       "    <tr style=\"text-align: right;\">\n",
       "      <th></th>\n",
       "      <th>Age</th>\n",
       "      <th>Cabin</th>\n",
       "      <th>Embarked</th>\n",
       "      <th>Fare</th>\n",
       "      <th>Name</th>\n",
       "      <th>Parch</th>\n",
       "      <th>Pclass</th>\n",
       "      <th>Sex</th>\n",
       "      <th>SibSp</th>\n",
       "      <th>Survived</th>\n",
       "      <th>Ticket</th>\n",
       "      <th>split</th>\n",
       "      <th>Embarked_Imputed</th>\n",
       "    </tr>\n",
       "    <tr>\n",
       "      <th>PassengerId</th>\n",
       "      <th></th>\n",
       "      <th></th>\n",
       "      <th></th>\n",
       "      <th></th>\n",
       "      <th></th>\n",
       "      <th></th>\n",
       "      <th></th>\n",
       "      <th></th>\n",
       "      <th></th>\n",
       "      <th></th>\n",
       "      <th></th>\n",
       "      <th></th>\n",
       "      <th></th>\n",
       "    </tr>\n",
       "  </thead>\n",
       "  <tbody>\n",
       "    <tr>\n",
       "      <th>1044</th>\n",
       "      <td>60.5</td>\n",
       "      <td>NaN</td>\n",
       "      <td>S</td>\n",
       "      <td>NaN</td>\n",
       "      <td>Storey, Mr. Thomas</td>\n",
       "      <td>0</td>\n",
       "      <td>3</td>\n",
       "      <td>male</td>\n",
       "      <td>0</td>\n",
       "      <td>NaN</td>\n",
       "      <td>3701</td>\n",
       "      <td>test</td>\n",
       "      <td>False</td>\n",
       "    </tr>\n",
       "  </tbody>\n",
       "</table>\n",
       "</div>"
      ],
      "text/plain": [
       "              Age Cabin Embarked  Fare                Name  Parch  Pclass  \\\n",
       "PassengerId                                                                 \n",
       "1044         60.5   NaN        S   NaN  Storey, Mr. Thomas      0       3   \n",
       "\n",
       "              Sex  SibSp  Survived Ticket split  Embarked_Imputed  \n",
       "PassengerId                                                        \n",
       "1044         male      0       NaN   3701  test             False  "
      ]
     },
     "execution_count": 40,
     "metadata": {},
     "output_type": "execute_result"
    }
   ],
   "source": [
    "titanic[titanic['Fare'].isnull()]"
   ]
  },
  {
   "cell_type": "markdown",
   "metadata": {},
   "source": [
    "La distribución de esta variable es compleja porque, como hemos visto, no sólo depende de la categoría del billete. Hay billetes con múltiples pasajeros y múltiples camarotes."
   ]
  },
  {
   "cell_type": "code",
   "execution_count": 41,
   "metadata": {},
   "outputs": [
    {
     "data": {
      "image/png": "[encoded data removed]",
      "text/plain": [
       "<Figure size 720x432 with 1 Axes>"
      ]
     },
     "metadata": {},
     "output_type": "display_data"
    }
   ],
   "source": [
    "sea.violinplot(x='Pclass', y='Fare', hue='Sex', \n",
    "               data=titanic, inner='quart', split=True);\n",
    "sea.despine(left=True)\n",
    "plt.title(\"Fare by Pclass and Sex\", loc='left');"
   ]
  },
  {
   "cell_type": "code",
   "execution_count": 42,
   "metadata": {},
   "outputs": [
    {
     "data": {
      "image/png": "[encoded data removed]",
      "text/plain": [
       "<Figure size 720x432 with 1 Axes>"
      ]
     },
     "metadata": {},
     "output_type": "display_data"
    }
   ],
   "source": [
    "age_bins = pd.cut(titanic['Age'], range(0, 95, 15), right=False)\n",
    "sea.violinplot(x=age_bins, y='Fare', hue='Sex', split=True, data=titanic);\n",
    "sea.despine(left=True)\n",
    "plt.title(\"Fare by Age and Sex\", loc='left');"
   ]
  },
  {
   "cell_type": "markdown",
   "metadata": {},
   "source": [
    "Se aprecia que en general las mujeres pagaban más por su billete que los hombres. La edad no es un factor muy relevante para las tarifas de los hombres.  "
   ]
  },
  {
   "cell_type": "markdown",
   "metadata": {},
   "source": [
    "Este dato perdido pertenece a  un hombre que viajaba en tercera clase, en principio, solo."
   ]
  },
  {
   "cell_type": "code",
   "execution_count": 43,
   "metadata": {},
   "outputs": [
    {
     "data": {
      "text/plain": [
       "1"
      ]
     },
     "execution_count": 43,
     "metadata": {},
     "output_type": "execute_result"
    }
   ],
   "source": [
    "titanic['Ticket'].eq('3701').sum()"
   ]
  },
  {
   "cell_type": "markdown",
   "metadata": {},
   "source": [
    "Vamos a imputar la tarifa perdida con la mediana de las tarifas para hombres que viajaban solos en tercera clase. En general, si hubiera más datos perdidos, podría ser necesario usar otra estrategia."
   ]
  },
  {
   "cell_type": "code",
   "execution_count": 44,
   "metadata": {},
   "outputs": [
    {
     "data": {
      "text/html": [
       "<div>\n",
       "<style scoped>\n",
       "    .dataframe tbody tr th:only-of-type {\n",
       "        vertical-align: middle;\n",
       "    }\n",
       "\n",
       "    .dataframe tbody tr th {\n",
       "        vertical-align: top;\n",
       "    }\n",
       "\n",
       "    .dataframe thead th {\n",
       "        text-align: right;\n",
       "    }\n",
       "</style>\n",
       "<table border=\"1\" class=\"dataframe\">\n",
       "  <thead>\n",
       "    <tr style=\"text-align: right;\">\n",
       "      <th></th>\n",
       "      <th></th>\n",
       "      <th>median</th>\n",
       "      <th>mad</th>\n",
       "    </tr>\n",
       "    <tr>\n",
       "      <th>Pclass</th>\n",
       "      <th>Sex</th>\n",
       "      <th></th>\n",
       "      <th></th>\n",
       "    </tr>\n",
       "  </thead>\n",
       "  <tbody>\n",
       "    <tr>\n",
       "      <th rowspan=\"2\" valign=\"top\">1</th>\n",
       "      <th>female</th>\n",
       "      <td>84.82915</td>\n",
       "      <td>65.133665</td>\n",
       "    </tr>\n",
       "    <tr>\n",
       "      <th>male</th>\n",
       "      <td>29.85000</td>\n",
       "      <td>26.179272</td>\n",
       "    </tr>\n",
       "    <tr>\n",
       "      <th rowspan=\"2\" valign=\"top\">2</th>\n",
       "      <th>female</th>\n",
       "      <td>13.00000</td>\n",
       "      <td>3.990580</td>\n",
       "    </tr>\n",
       "    <tr>\n",
       "      <th>male</th>\n",
       "      <td>13.00000</td>\n",
       "      <td>6.444180</td>\n",
       "    </tr>\n",
       "    <tr>\n",
       "      <th rowspan=\"2\" valign=\"top\">3</th>\n",
       "      <th>female</th>\n",
       "      <td>7.77500</td>\n",
       "      <td>1.322063</td>\n",
       "    </tr>\n",
       "    <tr>\n",
       "      <th>male</th>\n",
       "      <td>7.88750</td>\n",
       "      <td>2.825892</td>\n",
       "    </tr>\n",
       "  </tbody>\n",
       "</table>\n",
       "</div>"
      ],
      "text/plain": [
       "                 median        mad\n",
       "Pclass Sex                        \n",
       "1      female  84.82915  65.133665\n",
       "       male    29.85000  26.179272\n",
       "2      female  13.00000   3.990580\n",
       "       male    13.00000   6.444180\n",
       "3      female   7.77500   1.322063\n",
       "       male     7.88750   2.825892"
      ]
     },
     "execution_count": 44,
     "metadata": {},
     "output_type": "execute_result"
    }
   ],
   "source": [
    "titanic[titanic.SibSp.eq(0) & titanic.Parch.eq(0)].groupby(['Pclass', 'Sex'])['Fare'].agg(['median', 'mad'])"
   ]
  },
  {
   "cell_type": "markdown",
   "metadata": {},
   "source": [
    "Y también como hemos hecho hasta ahora, añadimos una variable para recordar las imputaciones."
   ]
  },
  {
   "cell_type": "code",
   "execution_count": 45,
   "metadata": {},
   "outputs": [],
   "source": [
    "# Track nulls/imputed variables\n",
    "titanic['Fare_Imputed'] = titanic['Fare'].isnull()\n",
    "\n",
    "# Impute our lost fare\n",
    "titanic.loc[1044, 'Fare'] = 7.8875\n",
    "\n",
    "assert titanic.Fare.isnull().sum() == 0"
   ]
  },
  {
   "cell_type": "markdown",
   "metadata": {},
   "source": [
    "### Variable Age "
   ]
  },
  {
   "cell_type": "markdown",
   "metadata": {},
   "source": [
    "Para la variable `Age` tenemos muchos más datos perdidos. Alrededor de un 20% en cada *split*. "
   ]
  },
  {
   "cell_type": "code",
   "execution_count": 46,
   "metadata": {},
   "outputs": [
    {
     "data": {
      "text/plain": [
       "0.2"
      ]
     },
     "execution_count": 46,
     "metadata": {},
     "output_type": "execute_result"
    }
   ],
   "source": [
    "round(titanic[['Age']].isnull().sum()[0] / len(titanic), 2)"
   ]
  },
  {
   "cell_type": "markdown",
   "metadata": {},
   "source": [
    "Podemos intuir que esta variable va a influir en la supervivencia. Es conocido que durante la tragedia se priorizó el salvamento de los niños y las mujeres. Es de esperar que esto este representado en los datos. Quizás sea posible derivar información sobre la edad de otras variables, como el título presente en el nombre, pero todavía parece que `Age` es lo bastante interesante como para tratar de imputar estos valores."
   ]
  },
  {
   "cell_type": "code",
   "execution_count": 47,
   "metadata": {},
   "outputs": [
    {
     "data": {
      "text/html": [
       "<div>\n",
       "<style scoped>\n",
       "    .dataframe tbody tr th:only-of-type {\n",
       "        vertical-align: middle;\n",
       "    }\n",
       "\n",
       "    .dataframe tbody tr th {\n",
       "        vertical-align: top;\n",
       "    }\n",
       "\n",
       "    .dataframe thead th {\n",
       "        text-align: right;\n",
       "    }\n",
       "</style>\n",
       "<table border=\"1\" class=\"dataframe\">\n",
       "  <thead>\n",
       "    <tr style=\"text-align: right;\">\n",
       "      <th></th>\n",
       "      <th>count</th>\n",
       "      <th>mean</th>\n",
       "      <th>std</th>\n",
       "      <th>min</th>\n",
       "      <th>25%</th>\n",
       "      <th>50%</th>\n",
       "      <th>75%</th>\n",
       "      <th>max</th>\n",
       "    </tr>\n",
       "  </thead>\n",
       "  <tbody>\n",
       "    <tr>\n",
       "      <th>Age</th>\n",
       "      <td>1046.0</td>\n",
       "      <td>29.881138</td>\n",
       "      <td>14.413493</td>\n",
       "      <td>0.17</td>\n",
       "      <td>21.0</td>\n",
       "      <td>28.0</td>\n",
       "      <td>39.0</td>\n",
       "      <td>80.0</td>\n",
       "    </tr>\n",
       "  </tbody>\n",
       "</table>\n",
       "</div>"
      ],
      "text/plain": [
       "      count       mean        std   min   25%   50%   75%   max\n",
       "Age  1046.0  29.881138  14.413493  0.17  21.0  28.0  39.0  80.0"
      ]
     },
     "execution_count": 47,
     "metadata": {},
     "output_type": "execute_result"
    }
   ],
   "source": [
    "titanic[['Age']].describe().T"
   ]
  },
  {
   "cell_type": "markdown",
   "metadata": {},
   "source": [
    "Las distribuciones de edades para ambos sexos son muy similares. Estas distribuciones no son gaussianas, son bimodales (debido al número de niños pequeños) y vemos que la población decrece rápidamente con la edad."
   ]
  },
  {
   "cell_type": "code",
   "execution_count": 48,
   "metadata": {},
   "outputs": [
    {
     "data": {
      "image/png": "[encoded data removed]",
      "text/plain": [
       "<Figure size 720x432 with 1 Axes>"
      ]
     },
     "metadata": {},
     "output_type": "display_data"
    }
   ],
   "source": [
    "age_df = titanic.dropna(subset=['Age'])\n",
    "for gender in age_df.Sex.unique():\n",
    "    sea.distplot(age_df.loc[age_df.Sex == gender, 'Age'], label=gender);\n",
    "plt.legend();\n",
    "sea.despine(left=True);"
   ]
  },
  {
   "cell_type": "markdown",
   "metadata": {},
   "source": [
    "En la siguiente gráfica cada punto representa un pasajero distribuido por edad y supervivencia. \n",
    "\n",
    "Parece que la influencia de la edad solo es relevante en ciertos grupos, como los niños o personas mayores."
   ]
  },
  {
   "cell_type": "code",
   "execution_count": 49,
   "metadata": {},
   "outputs": [
    {
     "data": {
      "image/png": "[encoded data removed]",
      "text/plain": [
       "<Figure size 720x432 with 1 Axes>"
      ]
     },
     "metadata": {},
     "output_type": "display_data"
    }
   ],
   "source": [
    "sea.swarmplot(x='Age', y='Survived', data=titanic,\n",
    "               orient='h', palette='muted', alpha=.9, dodge=False);\n",
    "sea.despine(left=True)"
   ]
  },
  {
   "cell_type": "code",
   "execution_count": 50,
   "metadata": {},
   "outputs": [],
   "source": [
    "# Track imputed ages\n",
    "titanic['Age_Imputed'] = titanic['Age'].isnull()"
   ]
  },
  {
   "cell_type": "markdown",
   "metadata": {},
   "source": [
    "Para imputar la variable vamos a dividir la población en grupos de edad según el título que llevan en el nombre y asignaremos a los valores perdidos la mediana (estadístico más robusto que la media) de su grupo."
   ]
  },
  {
   "cell_type": "markdown",
   "metadata": {},
   "source": [
    "Vamos a empezar extrayendo el título de los nombres y creando una nueva variable con ellos."
   ]
  },
  {
   "cell_type": "code",
   "execution_count": 51,
   "metadata": {},
   "outputs": [],
   "source": [
    "titanic['Title'] = titanic.Name.str.extract(r', ([^.]+)\\.')"
   ]
  },
  {
   "cell_type": "code",
   "execution_count": 52,
   "metadata": {},
   "outputs": [
    {
     "name": "stdout",
     "output_type": "stream",
     "text": [
      "['Capt', 'Col', 'Don', 'Dona', 'Dr', 'Jonkheer', 'Lady', 'Major', 'Master', 'Miss', 'Mlle', 'Mme', 'Mr', 'Mrs', 'Ms', 'Rev', 'Sir', 'the Countess of']\n"
     ]
    }
   ],
   "source": [
    "print(sorted(titanic.Title.unique()))"
   ]
  },
  {
   "cell_type": "markdown",
   "metadata": {},
   "source": [
    "Anora notamos que hay títulos que son variantes regionales. Lo que buscamos es relacionar el título con la edad. Vamos por tanto a reducir el conjunto de títulos."
   ]
  },
  {
   "cell_type": "code",
   "execution_count": 53,
   "metadata": {},
   "outputs": [],
   "source": [
    "title_dict = {\n",
    "    'Miss': ['Mlle', 'Ms', 'Mme'],\n",
    "    'Master': [],\n",
    "    'Mrs': ['Dona', 'Lady', 'the Countess of'],\n",
    "    'Mr': ['Capt', 'Col', 'Don', 'Jonkheer', 'Major', 'Sir', 'Dr', 'Rev'],\n",
    "}\n",
    "\n",
    "title_mapping = {value: key \n",
    "                 for key, values in title_dict.items()\n",
    "                 for value in values}\n",
    "\n",
    "titanic['TitleBin'] = titanic.Title.replace(title_mapping).astype('category')\n",
    "# Correct females in Mr\n",
    "titanic.loc[titanic.TitleBin.eq('Mr') & titanic.Sex.eq('female'), 'TitleBin'] = 'Mrs'\n",
    "# Correct kids in Mr\n",
    "titanic.loc[titanic.TitleBin.eq('Mr') & titanic.Age.lt(15), 'TitleBin'] = 'Master'"
   ]
  },
  {
   "cell_type": "markdown",
   "metadata": {},
   "source": [
    "Vemos a continuación las distribuciones de edad en cada grupo."
   ]
  },
  {
   "cell_type": "code",
   "execution_count": 54,
   "metadata": {},
   "outputs": [
    {
     "data": {
      "text/html": [
       "<div>\n",
       "<style scoped>\n",
       "    .dataframe tbody tr th:only-of-type {\n",
       "        vertical-align: middle;\n",
       "    }\n",
       "\n",
       "    .dataframe tbody tr th {\n",
       "        vertical-align: top;\n",
       "    }\n",
       "\n",
       "    .dataframe thead th {\n",
       "        text-align: right;\n",
       "    }\n",
       "</style>\n",
       "<table border=\"1\" class=\"dataframe\">\n",
       "  <thead>\n",
       "    <tr style=\"text-align: right;\">\n",
       "      <th></th>\n",
       "      <th>median</th>\n",
       "      <th>min</th>\n",
       "      <th>max</th>\n",
       "    </tr>\n",
       "    <tr>\n",
       "      <th>TitleBin</th>\n",
       "      <th></th>\n",
       "      <th></th>\n",
       "      <th></th>\n",
       "    </tr>\n",
       "  </thead>\n",
       "  <tbody>\n",
       "    <tr>\n",
       "      <th>Master</th>\n",
       "      <td>6.0</td>\n",
       "      <td>0.33</td>\n",
       "      <td>14.5</td>\n",
       "    </tr>\n",
       "    <tr>\n",
       "      <th>Miss</th>\n",
       "      <td>22.0</td>\n",
       "      <td>0.17</td>\n",
       "      <td>63.0</td>\n",
       "    </tr>\n",
       "    <tr>\n",
       "      <th>Mr</th>\n",
       "      <td>30.0</td>\n",
       "      <td>15.00</td>\n",
       "      <td>80.0</td>\n",
       "    </tr>\n",
       "    <tr>\n",
       "      <th>Mrs</th>\n",
       "      <td>36.0</td>\n",
       "      <td>14.00</td>\n",
       "      <td>76.0</td>\n",
       "    </tr>\n",
       "  </tbody>\n",
       "</table>\n",
       "</div>"
      ],
      "text/plain": [
       "          median    min   max\n",
       "TitleBin                     \n",
       "Master       6.0   0.33  14.5\n",
       "Miss        22.0   0.17  63.0\n",
       "Mr          30.0  15.00  80.0\n",
       "Mrs         36.0  14.00  76.0"
      ]
     },
     "execution_count": 54,
     "metadata": {},
     "output_type": "execute_result"
    }
   ],
   "source": [
    "age_from_title = titanic.groupby('TitleBin')['Age'].agg(['median', 'min', 'max'])\n",
    "age_from_title"
   ]
  },
  {
   "cell_type": "code",
   "execution_count": 55,
   "metadata": {},
   "outputs": [
    {
     "data": {
      "image/png": "[encoded data removed]",
      "text/plain": [
       "<Figure size 720x432 with 1 Axes>"
      ]
     },
     "metadata": {},
     "output_type": "display_data"
    }
   ],
   "source": [
    "sea.boxplot(y='TitleBin', x='Age', data=titanic, orient='h');\n",
    "sea.despine(left=True);"
   ]
  },
  {
   "cell_type": "markdown",
   "metadata": {},
   "source": [
    "Ahora podemos imputar la edad con estos datos."
   ]
  },
  {
   "cell_type": "code",
   "execution_count": 56,
   "metadata": {},
   "outputs": [],
   "source": [
    "titanic.loc[titanic.Age_Imputed, 'Age'] = (\n",
    "    titanic.TitleBin[titanic.Age_Imputed]\n",
    "        .replace(age_from_title['median'].to_dict()))"
   ]
  },
  {
   "cell_type": "markdown",
   "metadata": {},
   "source": [
    "En la siguiente gráfica podemos ver la distribución de los valores imputados comporados con los originales."
   ]
  },
  {
   "cell_type": "code",
   "execution_count": 57,
   "metadata": {},
   "outputs": [
    {
     "data": {
      "image/png": "[encoded data removed]",
      "text/plain": [
       "<Figure size 720x432 with 1 Axes>"
      ]
     },
     "metadata": {},
     "output_type": "display_data"
    }
   ],
   "source": [
    "sea.distplot(titanic.Age[~titanic.Age_Imputed], kde=False, color='g', label='~imputed')\n",
    "sea.distplot(titanic.Age[titanic.Age_Imputed], kde=False, color='r', label='imputed');\n",
    "plt.legend();\n",
    "plt.title(\"Age imputed\", loc='left');\n",
    "sea.despine(left=True);"
   ]
  },
  {
   "cell_type": "markdown",
   "metadata": {},
   "source": [
    "### Variable Cabin "
   ]
  },
  {
   "cell_type": "markdown",
   "metadata": {},
   "source": [
    "De la variable `Cabin` se han perdido más del 77% de los datos. No parecer haber ninguna relación trivial entre el número del billete y el del camarote. Además, puede haber varios camarotes asignados al mismo billete."
   ]
  },
  {
   "cell_type": "code",
   "execution_count": 58,
   "metadata": {},
   "outputs": [
    {
     "data": {
      "text/html": [
       "<div>\n",
       "<style scoped>\n",
       "    .dataframe tbody tr th:only-of-type {\n",
       "        vertical-align: middle;\n",
       "    }\n",
       "\n",
       "    .dataframe tbody tr th {\n",
       "        vertical-align: top;\n",
       "    }\n",
       "\n",
       "    .dataframe thead th {\n",
       "        text-align: right;\n",
       "    }\n",
       "</style>\n",
       "<table border=\"1\" class=\"dataframe\">\n",
       "  <thead>\n",
       "    <tr style=\"text-align: right;\">\n",
       "      <th></th>\n",
       "      <th>Cabin</th>\n",
       "      <th>Ticket</th>\n",
       "    </tr>\n",
       "    <tr>\n",
       "      <th>PassengerId</th>\n",
       "      <th></th>\n",
       "      <th></th>\n",
       "    </tr>\n",
       "  </thead>\n",
       "  <tbody>\n",
       "    <tr>\n",
       "      <th>760</th>\n",
       "      <td>B77</td>\n",
       "      <td>110152</td>\n",
       "    </tr>\n",
       "    <tr>\n",
       "      <th>505</th>\n",
       "      <td>B79</td>\n",
       "      <td>110152</td>\n",
       "    </tr>\n",
       "    <tr>\n",
       "      <th>258</th>\n",
       "      <td>B77</td>\n",
       "      <td>110152</td>\n",
       "    </tr>\n",
       "    <tr>\n",
       "      <th>559</th>\n",
       "      <td>E67</td>\n",
       "      <td>110413</td>\n",
       "    </tr>\n",
       "    <tr>\n",
       "      <th>263</th>\n",
       "      <td>E67</td>\n",
       "      <td>110413</td>\n",
       "    </tr>\n",
       "    <tr>\n",
       "      <th>586</th>\n",
       "      <td>E68</td>\n",
       "      <td>110413</td>\n",
       "    </tr>\n",
       "    <tr>\n",
       "      <th>111</th>\n",
       "      <td>C110</td>\n",
       "      <td>110465</td>\n",
       "    </tr>\n",
       "    <tr>\n",
       "      <th>476</th>\n",
       "      <td>A14</td>\n",
       "      <td>110465</td>\n",
       "    </tr>\n",
       "    <tr>\n",
       "      <th>1227</th>\n",
       "      <td>C106</td>\n",
       "      <td>110469</td>\n",
       "    </tr>\n",
       "    <tr>\n",
       "      <th>1050</th>\n",
       "      <td>D22</td>\n",
       "      <td>110489</td>\n",
       "    </tr>\n",
       "  </tbody>\n",
       "</table>\n",
       "</div>"
      ],
      "text/plain": [
       "            Cabin  Ticket\n",
       "PassengerId              \n",
       "760           B77  110152\n",
       "505           B79  110152\n",
       "258           B77  110152\n",
       "559           E67  110413\n",
       "263           E67  110413\n",
       "586           E68  110413\n",
       "111          C110  110465\n",
       "476           A14  110465\n",
       "1227         C106  110469\n",
       "1050          D22  110489"
      ]
     },
     "execution_count": 58,
     "metadata": {},
     "output_type": "execute_result"
    }
   ],
   "source": [
    "titanic[['Cabin', 'Ticket']].dropna().sort_values('Ticket').head(10)"
   ]
  },
  {
   "cell_type": "markdown",
   "metadata": {},
   "source": [
    "Quizas se podría imputar al menos la letra de la cubierta, pero también hay tickets con pasajeros en distintas cubiertas."
   ]
  },
  {
   "cell_type": "markdown",
   "metadata": {},
   "source": [
    "Dado el enorme número de datos perdidos no está claro que valor se podría extraer de esta variable que no este contenido en las otras. Por esta razones decidimos prescindir de esta variable."
   ]
  },
  {
   "cell_type": "code",
   "execution_count": 59,
   "metadata": {},
   "outputs": [],
   "source": [
    "titanic.drop(columns=['Cabin'], inplace=True)"
   ]
  },
  {
   "cell_type": "markdown",
   "metadata": {},
   "source": [
    "### Validación "
   ]
  },
  {
   "cell_type": "markdown",
   "metadata": {},
   "source": [
    "Validamos una última vez los datos para aseguranos que no hemos cometido ningún error."
   ]
  },
  {
   "cell_type": "code",
   "execution_count": 60,
   "metadata": {},
   "outputs": [
    {
     "data": {
      "text/html": [
       "<div>\n",
       "<style scoped>\n",
       "    .dataframe tbody tr th:only-of-type {\n",
       "        vertical-align: middle;\n",
       "    }\n",
       "\n",
       "    .dataframe tbody tr th {\n",
       "        vertical-align: top;\n",
       "    }\n",
       "\n",
       "    .dataframe thead th {\n",
       "        text-align: right;\n",
       "    }\n",
       "</style>\n",
       "<table border=\"1\" class=\"dataframe\">\n",
       "  <thead>\n",
       "    <tr style=\"text-align: right;\">\n",
       "      <th></th>\n",
       "      <th>count</th>\n",
       "      <th>unique</th>\n",
       "      <th>top</th>\n",
       "      <th>freq</th>\n",
       "      <th>mean</th>\n",
       "      <th>std</th>\n",
       "      <th>min</th>\n",
       "      <th>25%</th>\n",
       "      <th>50%</th>\n",
       "      <th>75%</th>\n",
       "      <th>max</th>\n",
       "    </tr>\n",
       "  </thead>\n",
       "  <tbody>\n",
       "    <tr>\n",
       "      <th>Age</th>\n",
       "      <td>1309</td>\n",
       "      <td></td>\n",
       "      <td></td>\n",
       "      <td></td>\n",
       "      <td>29.5704</td>\n",
       "      <td>13.1364</td>\n",
       "      <td>0.17</td>\n",
       "      <td>22</td>\n",
       "      <td>30</td>\n",
       "      <td>36</td>\n",
       "      <td>80</td>\n",
       "    </tr>\n",
       "    <tr>\n",
       "      <th>Embarked</th>\n",
       "      <td>1309</td>\n",
       "      <td>3</td>\n",
       "      <td>S</td>\n",
       "      <td>916</td>\n",
       "      <td></td>\n",
       "      <td></td>\n",
       "      <td></td>\n",
       "      <td></td>\n",
       "      <td></td>\n",
       "      <td></td>\n",
       "      <td></td>\n",
       "    </tr>\n",
       "    <tr>\n",
       "      <th>Fare</th>\n",
       "      <td>1309</td>\n",
       "      <td></td>\n",
       "      <td></td>\n",
       "      <td></td>\n",
       "      <td>33.2761</td>\n",
       "      <td>51.7436</td>\n",
       "      <td>0</td>\n",
       "      <td>7.8958</td>\n",
       "      <td>14.4542</td>\n",
       "      <td>31.275</td>\n",
       "      <td>512.329</td>\n",
       "    </tr>\n",
       "    <tr>\n",
       "      <th>Name</th>\n",
       "      <td>1309</td>\n",
       "      <td>1307</td>\n",
       "      <td>Kelly, Mr. James</td>\n",
       "      <td>2</td>\n",
       "      <td></td>\n",
       "      <td></td>\n",
       "      <td></td>\n",
       "      <td></td>\n",
       "      <td></td>\n",
       "      <td></td>\n",
       "      <td></td>\n",
       "    </tr>\n",
       "    <tr>\n",
       "      <th>Parch</th>\n",
       "      <td>1309</td>\n",
       "      <td></td>\n",
       "      <td></td>\n",
       "      <td></td>\n",
       "      <td>0.385027</td>\n",
       "      <td>0.86556</td>\n",
       "      <td>0</td>\n",
       "      <td>0</td>\n",
       "      <td>0</td>\n",
       "      <td>0</td>\n",
       "      <td>9</td>\n",
       "    </tr>\n",
       "    <tr>\n",
       "      <th>Pclass</th>\n",
       "      <td>1309</td>\n",
       "      <td></td>\n",
       "      <td></td>\n",
       "      <td></td>\n",
       "      <td>2.29488</td>\n",
       "      <td>0.837836</td>\n",
       "      <td>1</td>\n",
       "      <td>2</td>\n",
       "      <td>3</td>\n",
       "      <td>3</td>\n",
       "      <td>3</td>\n",
       "    </tr>\n",
       "    <tr>\n",
       "      <th>Sex</th>\n",
       "      <td>1309</td>\n",
       "      <td>2</td>\n",
       "      <td>male</td>\n",
       "      <td>843</td>\n",
       "      <td></td>\n",
       "      <td></td>\n",
       "      <td></td>\n",
       "      <td></td>\n",
       "      <td></td>\n",
       "      <td></td>\n",
       "      <td></td>\n",
       "    </tr>\n",
       "    <tr>\n",
       "      <th>SibSp</th>\n",
       "      <td>1309</td>\n",
       "      <td></td>\n",
       "      <td></td>\n",
       "      <td></td>\n",
       "      <td>0.498854</td>\n",
       "      <td>1.04166</td>\n",
       "      <td>0</td>\n",
       "      <td>0</td>\n",
       "      <td>0</td>\n",
       "      <td>1</td>\n",
       "      <td>8</td>\n",
       "    </tr>\n",
       "    <tr>\n",
       "      <th>Survived</th>\n",
       "      <td>891</td>\n",
       "      <td></td>\n",
       "      <td></td>\n",
       "      <td></td>\n",
       "      <td>0.383838</td>\n",
       "      <td>0.486592</td>\n",
       "      <td>0</td>\n",
       "      <td>0</td>\n",
       "      <td>0</td>\n",
       "      <td>1</td>\n",
       "      <td>1</td>\n",
       "    </tr>\n",
       "    <tr>\n",
       "      <th>Ticket</th>\n",
       "      <td>1309</td>\n",
       "      <td>929</td>\n",
       "      <td>CA. 2343</td>\n",
       "      <td>11</td>\n",
       "      <td></td>\n",
       "      <td></td>\n",
       "      <td></td>\n",
       "      <td></td>\n",
       "      <td></td>\n",
       "      <td></td>\n",
       "      <td></td>\n",
       "    </tr>\n",
       "    <tr>\n",
       "      <th>split</th>\n",
       "      <td>1309</td>\n",
       "      <td>2</td>\n",
       "      <td>train</td>\n",
       "      <td>891</td>\n",
       "      <td></td>\n",
       "      <td></td>\n",
       "      <td></td>\n",
       "      <td></td>\n",
       "      <td></td>\n",
       "      <td></td>\n",
       "      <td></td>\n",
       "    </tr>\n",
       "    <tr>\n",
       "      <th>Embarked_Imputed</th>\n",
       "      <td>1309</td>\n",
       "      <td>2</td>\n",
       "      <td>False</td>\n",
       "      <td>1307</td>\n",
       "      <td></td>\n",
       "      <td></td>\n",
       "      <td></td>\n",
       "      <td></td>\n",
       "      <td></td>\n",
       "      <td></td>\n",
       "      <td></td>\n",
       "    </tr>\n",
       "    <tr>\n",
       "      <th>Fare_Imputed</th>\n",
       "      <td>1309</td>\n",
       "      <td>2</td>\n",
       "      <td>False</td>\n",
       "      <td>1308</td>\n",
       "      <td></td>\n",
       "      <td></td>\n",
       "      <td></td>\n",
       "      <td></td>\n",
       "      <td></td>\n",
       "      <td></td>\n",
       "      <td></td>\n",
       "    </tr>\n",
       "    <tr>\n",
       "      <th>Age_Imputed</th>\n",
       "      <td>1309</td>\n",
       "      <td>2</td>\n",
       "      <td>False</td>\n",
       "      <td>1046</td>\n",
       "      <td></td>\n",
       "      <td></td>\n",
       "      <td></td>\n",
       "      <td></td>\n",
       "      <td></td>\n",
       "      <td></td>\n",
       "      <td></td>\n",
       "    </tr>\n",
       "    <tr>\n",
       "      <th>Title</th>\n",
       "      <td>1309</td>\n",
       "      <td>18</td>\n",
       "      <td>Mr</td>\n",
       "      <td>757</td>\n",
       "      <td></td>\n",
       "      <td></td>\n",
       "      <td></td>\n",
       "      <td></td>\n",
       "      <td></td>\n",
       "      <td></td>\n",
       "      <td></td>\n",
       "    </tr>\n",
       "    <tr>\n",
       "      <th>TitleBin</th>\n",
       "      <td>1309</td>\n",
       "      <td>4</td>\n",
       "      <td>Mr</td>\n",
       "      <td>777</td>\n",
       "      <td></td>\n",
       "      <td></td>\n",
       "      <td></td>\n",
       "      <td></td>\n",
       "      <td></td>\n",
       "      <td></td>\n",
       "      <td></td>\n",
       "    </tr>\n",
       "  </tbody>\n",
       "</table>\n",
       "</div>"
      ],
      "text/plain": [
       "                 count unique               top  freq      mean       std  \\\n",
       "Age               1309                                  29.5704   13.1364   \n",
       "Embarked          1309      3                 S   916                       \n",
       "Fare              1309                                  33.2761   51.7436   \n",
       "Name              1309   1307  Kelly, Mr. James     2                       \n",
       "Parch             1309                                 0.385027   0.86556   \n",
       "Pclass            1309                                  2.29488  0.837836   \n",
       "Sex               1309      2              male   843                       \n",
       "SibSp             1309                                 0.498854   1.04166   \n",
       "Survived           891                                 0.383838  0.486592   \n",
       "Ticket            1309    929          CA. 2343    11                       \n",
       "split             1309      2             train   891                       \n",
       "Embarked_Imputed  1309      2             False  1307                       \n",
       "Fare_Imputed      1309      2             False  1308                       \n",
       "Age_Imputed       1309      2             False  1046                       \n",
       "Title             1309     18                Mr   757                       \n",
       "TitleBin          1309      4                Mr   777                       \n",
       "\n",
       "                   min     25%      50%     75%      max  \n",
       "Age               0.17      22       30      36       80  \n",
       "Embarked                                                  \n",
       "Fare                 0  7.8958  14.4542  31.275  512.329  \n",
       "Name                                                      \n",
       "Parch                0       0        0       0        9  \n",
       "Pclass               1       2        3       3        3  \n",
       "Sex                                                       \n",
       "SibSp                0       0        0       1        8  \n",
       "Survived             0       0        0       1        1  \n",
       "Ticket                                                    \n",
       "split                                                     \n",
       "Embarked_Imputed                                          \n",
       "Fare_Imputed                                              \n",
       "Age_Imputed                                               \n",
       "Title                                                     \n",
       "TitleBin                                                  "
      ]
     },
     "metadata": {},
     "output_type": "display_data"
    }
   ],
   "source": [
    "display(titanic.describe(include='all').fillna('').T)"
   ]
  },
  {
   "cell_type": "markdown",
   "metadata": {},
   "source": [
    "Finalmente guardamos una copia en formato CSV."
   ]
  },
  {
   "cell_type": "code",
   "execution_count": 61,
   "metadata": {},
   "outputs": [],
   "source": [
    "# sort the columns alphabetically\n",
    "titanic.sort_index(1, inplace=True)\n",
    "titanic.to_csv('../data/titanic_clean.csv')"
   ]
  },
  {
   "cell_type": "markdown",
   "metadata": {},
   "source": [
    "## Análisis "
   ]
  },
  {
   "cell_type": "markdown",
   "metadata": {},
   "source": [
    "Partimos de los datos preprocesados en la etapa anterior."
   ]
  },
  {
   "cell_type": "code",
   "execution_count": 62,
   "metadata": {},
   "outputs": [],
   "source": [
    "titanic = pd.read_csv(\"../data/titanic_clean.csv\", index_col='PassengerId')\n",
    "# Convert categorical variables to type category \n",
    "for c in titanic:\n",
    "    if titanic[c].dtype == np.object:\n",
    "        titanic[c] = titanic[c].astype('category')"
   ]
  },
  {
   "cell_type": "markdown",
   "metadata": {},
   "source": [
    "Extraemos el split de entrenamiento para analizar la supervivencia de los pasajeros."
   ]
  },
  {
   "cell_type": "code",
   "execution_count": 63,
   "metadata": {},
   "outputs": [],
   "source": [
    "titanic_train = titanic[titanic.split == 'train']"
   ]
  },
  {
   "cell_type": "markdown",
   "metadata": {},
   "source": [
    "### Normalidad y homocedasticidad"
   ]
  },
  {
   "cell_type": "markdown",
   "metadata": {},
   "source": [
    "Primero analizamos la normalidad de las variables numericas y la homogeneidad en la varianza para las distribuciones por sexo y supervivencia.\n",
    "\n",
    "Para la normalidad usamos el test de Anderson-Darling con un nivel de significancia del 1%. Para la evaluar la igualdad de las varianzas de las poblaciones usamos la prueba de Levene."
   ]
  },
  {
   "cell_type": "code",
   "execution_count": 64,
   "metadata": {},
   "outputs": [
    {
     "name": "stdout",
     "output_type": "stream",
     "text": [
      "Anderson-Darling test for normality (sig 1%)\n",
      "Equality of variance with Levene test\n",
      "\n",
      "Age       \tFalse\t(statistic: 10.0)\n",
      "- Sex = female\tFalse\t(statistic: 4.74)\n",
      "- Sex = male\tFalse\t(statistic: 17.6)\n",
      "- Survived = 1\tFalse\t(statistic: 1.81)\n",
      "- Survived = 0\tFalse\t(statistic: 11.0)\n",
      "- Eq. variance sex: False\n",
      "- Eq. variance survived: False\n",
      "Fare      \tFalse\t(statistic: 1.22e+02)\n",
      "- Sex = female\tFalse\t(statistic: 55.6)\n",
      "- Sex = male\tFalse\t(statistic: 1.28e+02)\n",
      "- Survived = 1\tFalse\t(statistic: 36.9)\n",
      "- Survived = 0\tFalse\t(statistic: 76.7)\n",
      "- Eq. variance sex: False\n",
      "- Eq. variance survived: False\n",
      "Parch     \tFalse\t(statistic: 1.76e+02)\n",
      "- Sex = female\tFalse\t(statistic: 59.1)\n",
      "- Sex = male\tFalse\t(statistic: 2.07e+02)\n",
      "- Survived = 1\tFalse\t(statistic: 54.5)\n",
      "- Survived = 0\tFalse\t(statistic: 1.25e+02)\n",
      "- Eq. variance sex: False\n",
      "- Eq. variance survived: False\n",
      "Pclass    \tFalse\t(statistic: 1.1e+02)\n",
      "- Sex = female\tFalse\t(statistic: 48.6)\n",
      "- Sex = male\tFalse\t(statistic: 1.12e+02)\n",
      "- Survived = 1\tFalse\t(statistic: 32.2)\n",
      "- Survived = 0\tFalse\t(statistic: 92.7)\n",
      "- Eq. variance sex: False\n",
      "- Eq. variance survived: False\n",
      "SibSp     \tFalse\t(statistic: 1.47e+02)\n",
      "- Sex = female\tFalse\t(statistic: 57.3)\n",
      "- Sex = male\tFalse\t(statistic: 1.62e+02)\n",
      "- Survived = 1\tFalse\t(statistic: 45.0)\n",
      "- Survived = 0\tFalse\t(statistic: 1.06e+02)\n",
      "- Eq. variance sex: False\n",
      "- Eq. variance survived: False\n"
     ]
    }
   ],
   "source": [
    "print(\"Anderson-Darling test for normality (sig 1%)\")\n",
    "print(\"Equality of variance with Levene test\")\n",
    "print()\n",
    "\n",
    "df = titanic_train\n",
    "\n",
    "for c in df:\n",
    "    if c in ('Survived', 'split') or c.endswith('Bin') or c.endswith(\"_Imputed\"):\n",
    "        continue\n",
    "        \n",
    "    try:\n",
    "        test_ = stats.anderson(df[c])\n",
    "    except TypeError:\n",
    "        continue\n",
    "    \n",
    "    # If the statistic is larger than the critical values, then\n",
    "    # for the corresponding significant level, the null hypothesis\n",
    "    # can be rejected.\n",
    "    hypothesis_rejected = test_.statistic > test_.critical_values[-1]\n",
    "    print(f\"{c:<10s}\",\n",
    "          ~hypothesis_rejected,\n",
    "          f\"(statistic: {test_.statistic:.3})\", sep=\"\\t\")\n",
    "    \n",
    "    x_sex = {sex: titanic.loc[titanic.Sex.eq(sex), c]\n",
    "             for sex in ('female', 'male')}\n",
    "    x_survived = {s: titanic.loc[titanic.Survived.eq(s), c]\n",
    "                 for s in (1, 0)}\n",
    "    \n",
    "    for sex, x in x_sex.items():\n",
    "        test_ = stats.anderson(x)\n",
    "        hypothesis_rejected = test_.statistic > test_.critical_values[-1]\n",
    "        print(f\"- Sex = {sex}\",  \n",
    "              ~hypothesis_rejected,\n",
    "              f\"(statistic: {test_.statistic:.3})\", sep=\"\\t\")\n",
    "\n",
    "    for survived, x in x_survived.items():\n",
    "        test_ = stats.anderson(x)\n",
    "        hypothesis_rejected = test_.statistic > test_.critical_values[-1]\n",
    "        print(f\"- Survived = {survived}\",  \n",
    "              ~hypothesis_rejected,\n",
    "              f\"(statistic: {test_.statistic:.3})\", sep=\"\\t\")\n",
    "\n",
    "    test_ = scipy.stats.levene(x_sex['male'], x_sex['female'])\n",
    "    hypothesis_rejected = test_.statistic > test_.pvalue\n",
    "    print(f\"- Eq. variance sex: {not hypothesis_rejected}\")\n",
    "\n",
    "    test_ = scipy.stats.levene(x_survived[1], x_survived[0])\n",
    "    hypothesis_rejected = test_.statistic > test_.pvalue\n",
    "    print(f\"- Eq. variance survived: {not hypothesis_rejected}\")\n"
   ]
  },
  {
   "cell_type": "markdown",
   "metadata": {},
   "source": [
    "### Correlaciones"
   ]
  },
  {
   "cell_type": "markdown",
   "metadata": {},
   "source": [
    "Ahora nos podemos preguntar que factores influyen más en la supervivencia de los pasajeros del titanic. Podemos analizar la correlación de las variables usando el coeficiente del rango de Spearman."
   ]
  },
  {
   "cell_type": "code",
   "execution_count": 65,
   "metadata": {},
   "outputs": [
    {
     "data": {
      "image/png": "[encoded data removed]",
      "text/plain": [
       "<Figure size 1008x720 with 2 Axes>"
      ]
     },
     "metadata": {},
     "output_type": "display_data"
    }
   ],
   "source": [
    "def display_correlation(corr, title=None):\n",
    "    mask = np.zeros_like(corr, dtype=bool)\n",
    "    mask[np.triu_indices_from(mask)] = True\n",
    "\n",
    "    plt.figure(figsize=(14, 10))\n",
    "    cmap = sea.diverging_palette(220, 10, as_cmap=True)\n",
    "    sea.heatmap(corr, mask=mask, cmap=cmap, annot=True, fmt='.2f', square=True);\n",
    "    if title:\n",
    "        plt.title(title, loc='left') \n",
    "\n",
    "df = titanic_train\n",
    "# hide imputed variables\n",
    "df = df[[c for c in titanic if not c.endswith('_Imputed')]].copy()\n",
    "\n",
    "# Convert categorical to codes\n",
    "for var in ['Sex', 'Embarked', 'Ticket', 'TitleBin']:\n",
    "    df[var] = df[var].cat.codes\n",
    "\n",
    "corr = df.corr(method='spearman')\n",
    "\n",
    "display_correlation(corr);"
   ]
  },
  {
   "cell_type": "markdown",
   "metadata": {},
   "source": [
    "De esta matriz de correlación se destacan varias cosas en relación a la supervivencia.\n",
    "\n",
    "- Las mujeres tuvieron ventaja sobre los hombres. \n",
    "- Viajar en primera clase valió la pena.\n",
    "- Tener padres (o hijos) a bordo también ayudo.\n",
    "- Tener hermanos o esposos también, pero menos.\n",
    "- El puerto de embarque también es significativo, pero seguramente se explica por su correlación con la clase del billete o los grupos de pasajeros.\n",
    "- La edad no influyó tanto en la supervivencia.\n",
    "- El orden de los tickets está correlacionado con la clase del billete y con las familias (comparten el mismo billete) y esto los relaciona con la supervivencia. Esto además nos sugiere algo sobre el conjunto de evaluación."
   ]
  },
  {
   "cell_type": "code",
   "execution_count": 66,
   "metadata": {},
   "outputs": [
    {
     "data": {
      "image/png": "[encoded data removed]",
      "text/plain": [
       "<Figure size 720x432 with 1 Axes>"
      ]
     },
     "metadata": {},
     "output_type": "display_data"
    }
   ],
   "source": [
    "sea.barplot(x='Sex', y='Survived', hue='Pclass', data=titanic);\n",
    "plt.title('Survival by Sex and Pclass', loc='left');\n",
    "sea.despine(left=True);"
   ]
  },
  {
   "cell_type": "markdown",
   "metadata": {},
   "source": [
    "Ahora es muy obvio que el sexo y la clase son factores decisivos."
   ]
  },
  {
   "cell_type": "code",
   "execution_count": 67,
   "metadata": {},
   "outputs": [
    {
     "data": {
      "text/html": [
       "<div>\n",
       "<style scoped>\n",
       "    .dataframe tbody tr th:only-of-type {\n",
       "        vertical-align: middle;\n",
       "    }\n",
       "\n",
       "    .dataframe tbody tr th {\n",
       "        vertical-align: top;\n",
       "    }\n",
       "\n",
       "    .dataframe thead th {\n",
       "        text-align: right;\n",
       "    }\n",
       "</style>\n",
       "<table border=\"1\" class=\"dataframe\">\n",
       "  <thead>\n",
       "    <tr style=\"text-align: right;\">\n",
       "      <th></th>\n",
       "      <th>Survival</th>\n",
       "    </tr>\n",
       "    <tr>\n",
       "      <th>Sex</th>\n",
       "      <th></th>\n",
       "    </tr>\n",
       "  </thead>\n",
       "  <tbody>\n",
       "    <tr>\n",
       "      <th>female</th>\n",
       "      <td>0.74</td>\n",
       "    </tr>\n",
       "    <tr>\n",
       "      <th>male</th>\n",
       "      <td>0.19</td>\n",
       "    </tr>\n",
       "  </tbody>\n",
       "</table>\n",
       "</div>"
      ],
      "text/plain": [
       "        Survival\n",
       "Sex             \n",
       "female      0.74\n",
       "male        0.19"
      ]
     },
     "execution_count": 67,
     "metadata": {},
     "output_type": "execute_result"
    }
   ],
   "source": [
    "survival = titanic_train.groupby(['Sex'])['Survived'].agg(['sum', 'count']) \n",
    "survival = round(survival['sum'] / survival['count'], 2).to_frame()\n",
    "survival.columns = ['Survival']\n",
    "survival"
   ]
  },
  {
   "cell_type": "markdown",
   "metadata": {},
   "source": [
    "El 74% de las mujeres sobreviveron, frente a solo el 19% de los hombres."
   ]
  },
  {
   "cell_type": "markdown",
   "metadata": {},
   "source": [
    "Pero no todas las mujeres tenían la misma ventaja."
   ]
  },
  {
   "cell_type": "code",
   "execution_count": 68,
   "metadata": {},
   "outputs": [
    {
     "data": {
      "text/html": [
       "<div>\n",
       "<style scoped>\n",
       "    .dataframe tbody tr th:only-of-type {\n",
       "        vertical-align: middle;\n",
       "    }\n",
       "\n",
       "    .dataframe tbody tr th {\n",
       "        vertical-align: top;\n",
       "    }\n",
       "\n",
       "    .dataframe thead th {\n",
       "        text-align: right;\n",
       "    }\n",
       "</style>\n",
       "<table border=\"1\" class=\"dataframe\">\n",
       "  <thead>\n",
       "    <tr style=\"text-align: right;\">\n",
       "      <th></th>\n",
       "      <th></th>\n",
       "      <th>Survival</th>\n",
       "    </tr>\n",
       "    <tr>\n",
       "      <th>Pclass</th>\n",
       "      <th>Sex</th>\n",
       "      <th></th>\n",
       "    </tr>\n",
       "  </thead>\n",
       "  <tbody>\n",
       "    <tr>\n",
       "      <th rowspan=\"2\" valign=\"top\">1</th>\n",
       "      <th>female</th>\n",
       "      <td>0.97</td>\n",
       "    </tr>\n",
       "    <tr>\n",
       "      <th>male</th>\n",
       "      <td>0.37</td>\n",
       "    </tr>\n",
       "    <tr>\n",
       "      <th rowspan=\"2\" valign=\"top\">2</th>\n",
       "      <th>female</th>\n",
       "      <td>0.92</td>\n",
       "    </tr>\n",
       "    <tr>\n",
       "      <th>male</th>\n",
       "      <td>0.16</td>\n",
       "    </tr>\n",
       "    <tr>\n",
       "      <th rowspan=\"2\" valign=\"top\">3</th>\n",
       "      <th>female</th>\n",
       "      <td>0.50</td>\n",
       "    </tr>\n",
       "    <tr>\n",
       "      <th>male</th>\n",
       "      <td>0.14</td>\n",
       "    </tr>\n",
       "  </tbody>\n",
       "</table>\n",
       "</div>"
      ],
      "text/plain": [
       "               Survival\n",
       "Pclass Sex             \n",
       "1      female      0.97\n",
       "       male        0.37\n",
       "2      female      0.92\n",
       "       male        0.16\n",
       "3      female      0.50\n",
       "       male        0.14"
      ]
     },
     "execution_count": 68,
     "metadata": {},
     "output_type": "execute_result"
    }
   ],
   "source": [
    "survival = titanic_train.groupby(['Pclass', 'Sex'])['Survived'].agg(['sum', 'count']) \n",
    "survival = round(survival['sum'] / survival['count'], 2).to_frame()\n",
    "survival.columns = ['Survival']\n",
    "survival"
   ]
  },
  {
   "cell_type": "markdown",
   "metadata": {},
   "source": [
    "Un 97% de las mújeres de primera clase sobreviveron a la tragedia. En segunda clase la suerte también estaba del lado de las mujeres. En tercera clase la probabilidad de sobrevivir cae al 50%.\n",
    "\n",
    "Para los hombres la probabilidad de sobrevivir en primera clase es el doble que en la tercera clase. Los hombres de la segunda clase no parecen gozar de la misma ventaja."
   ]
  },
  {
   "cell_type": "markdown",
   "metadata": {},
   "source": [
    "¿Cuanto influye la edad?"
   ]
  },
  {
   "cell_type": "markdown",
   "metadata": {},
   "source": [
    "Hemos visto que la eda tiene muy poca correlación con la supervivencia."
   ]
  },
  {
   "cell_type": "code",
   "execution_count": 69,
   "metadata": {},
   "outputs": [
    {
     "data": {
      "image/png": "[encoded data removed]",
      "text/plain": [
       "<Figure size 720x432 with 1 Axes>"
      ]
     },
     "metadata": {},
     "output_type": "display_data"
    }
   ],
   "source": [
    "sea.swarmplot(x='Age', y='Sex', hue='Survived', orient='h', \n",
    "              data=titanic_train, color='g', size=8);\n",
    "sea.despine(left=True);"
   ]
  },
  {
   "cell_type": "markdown",
   "metadata": {},
   "source": [
    "En esta gráfica de las distribuciones de edad según la supervivencia y el sexo, se aprecia que, para los hombres, tener menos de 10 años es una ventaja. Aparte de esto, no se puede decir mucho más. El sexo es un factor mucho más importante."
   ]
  },
  {
   "cell_type": "markdown",
   "metadata": {},
   "source": [
    "Ya hemos visto que la mayor parte de los pasajeros embarcaron en Southampton. Podemos ver como se distribuyeron también por clases."
   ]
  },
  {
   "cell_type": "code",
   "execution_count": 70,
   "metadata": {},
   "outputs": [
    {
     "data": {
      "image/png": "[encoded data removed]",
      "text/plain": [
       "<Figure size 720x432 with 1 Axes>"
      ]
     },
     "metadata": {},
     "output_type": "display_data"
    }
   ],
   "source": [
    "var_df = (titanic.reset_index()\n",
    "           .groupby(['Embarked', 'Pclass'])['PassengerId']\n",
    "           .count()\n",
    "           .to_frame()\n",
    "           .rename(columns={'PassengerId': 'Passengers'})\n",
    "           .reset_index())\n",
    "sea.barplot(x='Embarked', y='Passengers', hue='Pclass', data=var_df)\n",
    "plt.title(\"Passengers by Port and Pclass\", loc='left')\n",
    "sea.despine(left=True)"
   ]
  },
  {
   "cell_type": "markdown",
   "metadata": {},
   "source": [
    "La mayoría de los pasajeros de Southampton iban en tercera clase. La mayoría del pasaje de Cherbourg iba en primera."
   ]
  },
  {
   "cell_type": "markdown",
   "metadata": {},
   "source": [
    "Hemos visto que el puerto de embarque influye en la supervivencia."
   ]
  },
  {
   "cell_type": "code",
   "execution_count": 71,
   "metadata": {},
   "outputs": [
    {
     "data": {
      "image/png": "[encoded data removed]",
      "text/plain": [
       "<Figure size 720x432 with 1 Axes>"
      ]
     },
     "metadata": {},
     "output_type": "display_data"
    }
   ],
   "source": [
    "sea.barplot(x='Embarked', y='Survived', data=titanic);\n",
    "sea.despine(left=True)\n",
    "plt.title(\"Survival by Embarkation\", loc='left');"
   ]
  },
  {
   "cell_type": "markdown",
   "metadata": {},
   "source": [
    "### Feature engineering"
   ]
  },
  {
   "cell_type": "markdown",
   "metadata": {},
   "source": [
    "En este punto tenemos información para buscar nuevas variables con fuerza predictiva."
   ]
  },
  {
   "cell_type": "markdown",
   "metadata": {},
   "source": [
    "Vamos a simplificar la variable `Age` categorizándola en varios grupos y la vamos a agregar al dataset."
   ]
  },
  {
   "cell_type": "code",
   "execution_count": 72,
   "metadata": {},
   "outputs": [],
   "source": [
    "titanic['AgeBin'] = pd.qcut(titanic.Age, 4)"
   ]
  },
  {
   "cell_type": "code",
   "execution_count": 73,
   "metadata": {},
   "outputs": [
    {
     "data": {
      "image/png": "[encoded data removed]",
      "text/plain": [
       "<Figure size 720x432 with 1 Axes>"
      ]
     },
     "metadata": {},
     "output_type": "display_data"
    }
   ],
   "source": [
    "sea.barplot(x='AgeBin', y='Survived', hue='Sex', data=titanic);\n",
    "sea.despine(left=True)\n",
    "plt.title(\"Survival by Age and Sex\", loc='left');"
   ]
  },
  {
   "cell_type": "markdown",
   "metadata": {},
   "source": [
    "Vamos a categorizar también las tarifas en 5 cuantiles."
   ]
  },
  {
   "cell_type": "code",
   "execution_count": 74,
   "metadata": {},
   "outputs": [],
   "source": [
    "titanic['FareBin'] = pd.qcut(titanic['Fare'], 5)"
   ]
  },
  {
   "cell_type": "code",
   "execution_count": 75,
   "metadata": {},
   "outputs": [
    {
     "data": {
      "image/png": "[encoded data removed]",
      "text/plain": [
       "<Figure size 720x432 with 1 Axes>"
      ]
     },
     "metadata": {},
     "output_type": "display_data"
    }
   ],
   "source": [
    "sea.barplot(x='FareBin', y='Survived', hue='Sex', data=titanic);\n",
    "sea.despine(left=True)\n",
    "plt.title(\"Survival by Fare and Sex\", loc='left');"
   ]
  },
  {
   "cell_type": "markdown",
   "metadata": {},
   "source": [
    "Hemos visto que las familias y los grupos de pasajeros están correlacionados con la supervivencia. Nos interesaría encontrar características que reflejen esta relación. "
   ]
  },
  {
   "cell_type": "markdown",
   "metadata": {},
   "source": [
    "Aquí intentemos agrupar a las familias por su apellido y el precio que pagaron (el ticket es menos efectivo porque hay familias con diferentes billetes). E identificamos a los grupos por el billete dentro del grupo de pasajeros sin familia."
   ]
  },
  {
   "cell_type": "code",
   "execution_count": 76,
   "metadata": {},
   "outputs": [],
   "source": [
    "def update_with(df, o_df):\n",
    "    \"\"\"Update a dataframe with data from another one using \n",
    "    the other dataframe index.\"\"\"\n",
    "    for c in o_df:\n",
    "        if c not in df:\n",
    "            df[c] = np.nan\n",
    "    index_name = df.index.name\n",
    "    df = df.reset_index().set_index(o_df.index.name)\n",
    "    df.update(o_df)\n",
    "    df = df.reset_index().set_index(index_name)\n",
    "    return df"
   ]
  },
  {
   "cell_type": "code",
   "execution_count": 77,
   "metadata": {},
   "outputs": [],
   "source": [
    "# Family name\n",
    "titanic['FamilyName'] = titanic.Name.str.extract('([^,]+),')\n",
    "# Size of the closest family\n",
    "titanic['FamilySize'] = (titanic.SibSp + titanic.Parch)\n",
    "\n",
    "# Here we approximate the families by their last name, the class and the fare\n",
    "# We don't use Ticket because there are families with several tickets\n",
    "titanic['Family'] = (titanic.FamilyName\n",
    "                     .str.cat(titanic.Pclass.astype(str), sep='-')\n",
    "                     .str.cat(titanic.Fare.astype(str), sep='-'))\n",
    "\n",
    "# Count the size of the families/groups\n",
    "families = titanic.groupby('Family').size().to_frame()\n",
    "families.columns = ['GroupCount']\n",
    "# Update dataset with this feature\n",
    "titanic = update_with(titanic, families)\n",
    "\n",
    "# Potential passengers traveling solo\n",
    "solos = titanic.GroupCount.eq(1) & titanic.FamilySize.eq(0)\n",
    "# Update their family name\n",
    "titanic.loc[solos, 'Family'] = (titanic.loc[solos, 'Ticket'].str\n",
    "                                .replace(r'^(.+)$', 'SOLO-\\\\1'))\n",
    "# Compute size of groups and update FamilySize\n",
    "groups = titanic[solos].groupby('Family').size()\n",
    "groups = groups[groups.gt(1)].to_frame()\n",
    "groups.columns = ['FamilySize']\n",
    "groups['FamilySize'] -= 1\n",
    "# Update titanic with group features\n",
    "titanic = update_with(titanic, groups)"
   ]
  },
  {
   "cell_type": "markdown",
   "metadata": {},
   "source": [
    "Ahora que tenemos a los pasajeros agrupados, buscamos crear una característica que refleje el nivel de supervivencia de las familias/grupos. La idea es que, al menos para las mujeres y los niños, la supervivencia de cada miembro está relacionada con la supervivencia del grupo."
   ]
  },
  {
   "cell_type": "code",
   "execution_count": 78,
   "metadata": {},
   "outputs": [],
   "source": [
    "# Initialize family survival with 0 - neutral\n",
    "titanic['FamilySurvival'] = 0.0\n",
    "\n",
    "# Traverse all family members and give +1 if any other member survived,\n",
    "# else give -1 if any other member perished\n",
    "for group_index, group in titanic.groupby('Family'):\n",
    "    if len(group) == 1: continue\n",
    "    for passenger in group.itertuples():\n",
    "        others = group.drop(passenger.Index)['Survived']\n",
    "        if others.count():\n",
    "            fs = 1 if others.eq(1).any() else -1\n",
    "            titanic.loc[passenger.Index, 'FamilySurvival'] = fs\n",
    "\n",
    "# Traverse groups and update\n",
    "for group_index, group in titanic.groupby('Ticket'):\n",
    "    if len(group) == 1: continue\n",
    "    for passenger in group.itertuples():\n",
    "        if passenger.FamilySurvival <= 0:\n",
    "            others = group.drop(passenger.Index)['Survived']\n",
    "            if others.count():\n",
    "                fs = 1 if others.eq(1).any() else -1\n",
    "                titanic.loc[passenger.Index, 'FamilySurvival'] = fs"
   ]
  },
  {
   "cell_type": "markdown",
   "metadata": {},
   "source": [
    "El objetivo de este análisis es crear un modelo para predecir la supervivencia de los pasajeros. En la competención de kaggle los modelos se evaluación según su precisión (*accuracy*), utilizaremos también esta métrica."
   ]
  },
  {
   "cell_type": "code",
   "execution_count": 79,
   "metadata": {},
   "outputs": [],
   "source": [
    "from sklearn.metrics import accuracy_score"
   ]
  },
  {
   "cell_type": "markdown",
   "metadata": {},
   "source": [
    "Es importante empezar con alguna referencia que nos sirva de guía sobre como de fácil o difícil es predecir la supervivencia."
   ]
  },
  {
   "cell_type": "code",
   "execution_count": 80,
   "metadata": {},
   "outputs": [
    {
     "name": "stdout",
     "output_type": "stream",
     "text": [
      "Baseline survival chance in training set: 38.4%\n",
      "Baseline accuracies:\n",
      "- everybody lives                            38.4%  (100.0%)\n",
      "- everybody dies                             61.6%  (  0.0%)\n",
      "- only males die                             78.7%  ( 35.2%)\n",
      "- only males >= 5 die                        79.5%  ( 37.8%)\n",
      "- also, everybody in 3rd class dies          80.2%  ( 21.1%)\n"
     ]
    }
   ],
   "source": [
    "df = titanic_train\n",
    "y = df.Survived\n",
    "\n",
    "def print_baseline(survivors, description):\n",
    "    acc = accuracy_score(y, survivors) * 100\n",
    "    chance = survivors.sum() / len(survivors) * 100\n",
    "    print(f\"- {description:40s} {acc:>6.1f}%  ({chance:5.1f}%)\")\n",
    "\n",
    "print(\"Baseline survival chance in training set: {:.1f}%\".format(y.sum() / len(y) * 100))\n",
    "print(\"Baseline accuracies:\")\n",
    "\n",
    "survivors = np.ones_like(y)\n",
    "print_baseline(survivors, 'everybody lives')\n",
    "\n",
    "survivors = np.zeros_like(y)\n",
    "print_baseline(survivors, 'everybody dies')\n",
    "\n",
    "survivors[df.Sex == 'female'] = 1\n",
    "print_baseline(survivors, 'only males die')\n",
    "\n",
    "survivors[df.Age.lt(5)] = 1\n",
    "print_baseline(survivors, 'only males >= 5 die')\n",
    "\n",
    "survivors[df.Age.ge(2) & df.Pclass.eq(3)] = 0\n",
    "print_baseline(survivors, 'also, everybody in 3rd class dies') \n",
    "\n",
    "del y, df"
   ]
  },
  {
   "cell_type": "markdown",
   "metadata": {},
   "source": [
    "Tenemos varios modelos de referencia:\n",
    "\n",
    "- Todos los pasajeros sobreviven. Modelo optimista pero no muy práctico con una precisión del 38%.\n",
    "- Ningún pasajero sobrevive. Este modelo, con una precisión del 62%, es una considerable mejora respecto al anterior y ya empieza a ser útil.\n",
    "- Todos los hombres perecen. Seguimos mejorando. Con una precisión del 78.7% en el conjunto de entrenamiento pone el listón bastante alto. De hecho, este modelo alcanza una precisión del 76.6% en la tabla de clasificación pública de Kaggle, donde se evalua sobre el 50% de los datos de evaluación.\n",
    "- Si salvamos a los varones de menos de 5 años seguimos mejorando el modelo dentro del conjunto de entrenamiento.\n",
    "- Si todos los pasajeros de tercera clase, excepto los bebes, perecen subimos la precisión al 80.2%. En este punto estamos ya, probablemente, haciendo *overfitting* al conjunto de entrenamiento."
   ]
  },
  {
   "cell_type": "markdown",
   "metadata": {},
   "source": [
    "## Validación del modelo "
   ]
  },
  {
   "cell_type": "markdown",
   "metadata": {},
   "source": [
    "Para evaluar la precisión del modelo a medida que lo vamos modificando vamos a hacer uso de la validación cruzada sobre 8 pliegues (*folds*)."
   ]
  },
  {
   "cell_type": "code",
   "execution_count": 81,
   "metadata": {},
   "outputs": [],
   "source": [
    "from sklearn.metrics import classification_report, accuracy_score, roc_auc_score, confusion_matrix\n",
    "from sklearn.model_selection import KFold, cross_val_score"
   ]
  },
  {
   "cell_type": "code",
   "execution_count": 82,
   "metadata": {},
   "outputs": [],
   "source": [
    "def evaluate_classifier(clf, X, y, folds=10, desc='', random_state=12345):\n",
    "    kfold = KFold(folds, shuffle=True, random_state=random_state)\n",
    "\n",
    "    accuracy = []\n",
    "    rocauc = []\n",
    "    reports = []\n",
    "    \n",
    "    for k, (train_index, test_index) in enumerate(kfold.split(X)):\n",
    "        #print(k, len(train_index))\n",
    "        if clf.get_params().get('random_state'):\n",
    "            clf.set_params(random_state=random_state)\n",
    "\n",
    "        clf.fit(X[train_index], y[train_index])\n",
    "        y_pred = clf.predict(X[test_index])\n",
    "        y_true = y[test_index]\n",
    "        \n",
    "        score = accuracy_score(y_true, y_pred)\n",
    "        accuracy.append(score)\n",
    "        \n",
    "        score = roc_auc_score(y_true, y_pred)\n",
    "        rocauc.append(score)\n",
    "        \n",
    "        reports.append(classification_report(y_true, y_pred))\n",
    "    \n",
    "    print(\"Accuracy: {}{:.2f} +/- {:.2f}%\".format(desc, np.mean(accuracy) * 100, \n",
    "                                                  2 * np.std(accuracy) * 100))\n",
    "    print(\"ROC-AUC:  {}{:.2f} +/- {:.2f}%\".format(desc, np.mean(rocauc) * 100, \n",
    "                                                  2 * np.std(rocauc) * 100))\n",
    "    print(\"Worst fold:\")\n",
    "    print(reports[np.argmin(accuracy)])\n",
    "    \n",
    "    return {'accuracy': accuracy, 'roc-auc': rocauc, 'reports': reports}"
   ]
  },
  {
   "cell_type": "markdown",
   "metadata": {},
   "source": [
    "## Creando el modelo"
   ]
  },
  {
   "cell_type": "markdown",
   "metadata": {},
   "source": [
    "Para crear el modelo vamos a utilizar el algoritmo de *nearest neighbors* implementado en *sklearn*. Se han probado otros modelos, como regresión logística, con y sin regularización, o SVM, pero este es el que mejor funciona. Por falta de tiempo no incluímos este análisis aquí."
   ]
  },
  {
   "cell_type": "code",
   "execution_count": 83,
   "metadata": {},
   "outputs": [],
   "source": [
    "from sklearn.neighbors import KNeighborsClassifier"
   ]
  },
  {
   "cell_type": "markdown",
   "metadata": {},
   "source": [
    "Vamos a usar las siguientes caracteristicas: `Pclass, Sex, AgeBin, FareBin, FamilySize, GroupCount, FamilySurvival`. Porque después de varias pruebas son las que mejor resultado han dado.\n",
    "\n",
    "Codificamos las variables categóricas con las clases `LabelEncoder` y `LabelBinarizer` de `sklearn.preprocessing`. Finalmente estandarizamos las variables eliminando la media y diviendo por la varianza con `sklearn.preprocessing.StandardScaler`."
   ]
  },
  {
   "cell_type": "code",
   "execution_count": 84,
   "metadata": {},
   "outputs": [
    {
     "name": "stdout",
     "output_type": "stream",
     "text": [
      "Num of features: 9\n"
     ]
    }
   ],
   "source": [
    "from sklearn_pandas import DataFrameMapper\n",
    "from sklearn.preprocessing import LabelEncoder, LabelBinarizer\n",
    "from sklearn.preprocessing import StandardScaler\n",
    "\n",
    "data_encoder = DataFrameMapper([\n",
    "    ('Pclass', LabelBinarizer()),\n",
    "    ('Sex', LabelEncoder()),\n",
    "    ('AgeBin', LabelEncoder()),\n",
    "    ('FareBin', LabelEncoder()),\n",
    "    ('FamilySize', None),\n",
    "    ('GroupCount', None),\n",
    "    ('FamilySurvival', None),\n",
    "], df_out=True)\n",
    "\n",
    "# Fit the encoders on the full dataset\n",
    "data_encoder.fit(titanic)\n",
    "\n",
    "# We train on the train set\n",
    "titanic_train = titanic[titanic.split == 'train'].copy()\n",
    "X = data_encoder.transform(titanic_train).values\n",
    "y = titanic_train['Survived'].values.astype(float)\n",
    "\n",
    "# This is for submitting to kaggle\n",
    "titanic_eval = titanic[titanic.split == 'test'].copy()\n",
    "X_eval = data_encoder.transform(titanic_eval).values\n",
    "\n",
    "# Scale all variables\n",
    "scaler = StandardScaler()\n",
    "X = scaler.fit_transform(X)\n",
    "X_eval = scaler.transform(X_eval)\n",
    "\n",
    "print(\"Num of features:\", X.shape[1])"
   ]
  },
  {
   "cell_type": "markdown",
   "metadata": {},
   "source": [
    "Buscamos los mejores parámetros del clasificador con la ayuda de `GridSearchCV`."
   ]
  },
  {
   "cell_type": "code",
   "execution_count": 85,
   "metadata": {},
   "outputs": [
    {
     "name": "stdout",
     "output_type": "stream",
     "text": [
      "Fitting 8 folds for each of 64 candidates, totalling 512 fits\n",
      "Best score: 0.8650016054488122\n",
      "KNeighborsClassifier(algorithm='auto', leaf_size=50, metric='minkowski',\n",
      "           metric_params=None, n_jobs=1, n_neighbors=6, p=2,\n",
      "           weights='uniform')\n"
     ]
    },
    {
     "name": "stderr",
     "output_type": "stream",
     "text": [
      "[Parallel(n_jobs=1)]: Done 512 out of 512 | elapsed:    3.9s finished\n"
     ]
    }
   ],
   "source": [
    "from sklearn.model_selection import GridSearchCV\n",
    "\n",
    "grid_search = GridSearchCV(KNeighborsClassifier(),\n",
    "                           param_grid={\n",
    "                               'leaf_size': range(30, 100, 20),\n",
    "                               'n_neighbors': range(2, 10),\n",
    "                               'weights': ('uniform', 'distance')\n",
    "                           },\n",
    "                           cv=8, scoring='roc_auc', verbose=True)\n",
    "grid_search.fit(X, y)\n",
    "print(\"Best score:\", grid_search.best_score_)\n",
    "\n",
    "clf = grid_search.best_estimator_\n",
    "print(clf)"
   ]
  },
  {
   "cell_type": "code",
   "execution_count": 86,
   "metadata": {},
   "outputs": [
    {
     "name": "stdout",
     "output_type": "stream",
     "text": [
      "Accuracy: 83.63 +/- 9.06%\n",
      "ROC-AUC:  81.16 +/- 9.85%\n",
      "Worst fold:\n",
      "             precision    recall  f1-score   support\n",
      "\n",
      "        0.0       0.77      0.89      0.83        65\n",
      "        1.0       0.81      0.64      0.71        47\n",
      "\n",
      "avg / total       0.79      0.79      0.78       112\n",
      "\n"
     ]
    }
   ],
   "source": [
    "clf = grid_search.best_estimator_\n",
    "evaluate_classifier(clf, X, y, folds=8);"
   ]
  },
  {
   "cell_type": "markdown",
   "metadata": {},
   "source": [
    "La validación cruzada nos indica una precisión sobre el conjunto de entrenamiento del 83.6%. Un 3.4% sobre el último modelo trivial."
   ]
  },
  {
   "cell_type": "markdown",
   "metadata": {},
   "source": [
    "Para reducir el overfitting sobre el conjunto de entrenamiento, vamos a aumentar el parámetro `leaf_size`, cuyo efecto es reducir el número de nodos en el árbol de búsqueda, simplificando el modelo y, por tanto, haciéndolo más general."
   ]
  },
  {
   "cell_type": "code",
   "execution_count": 87,
   "metadata": {},
   "outputs": [
    {
     "name": "stdout",
     "output_type": "stream",
     "text": [
      "Accuracy: 83.18 +/- 8.47%\n",
      "ROC-AUC:  80.92 +/- 10.12%\n",
      "Worst fold:\n",
      "             precision    recall  f1-score   support\n",
      "\n",
      "        0.0       0.77      0.89      0.83        65\n",
      "        1.0       0.81      0.64      0.71        47\n",
      "\n",
      "avg / total       0.79      0.79      0.78       112\n",
      "\n"
     ]
    }
   ],
   "source": [
    "clf = KNeighborsClassifier(n_neighbors=9, leaf_size=100)\n",
    "evaluate_classifier(clf, X, y, folds=8);"
   ]
  },
  {
   "cell_type": "code",
   "execution_count": 88,
   "metadata": {},
   "outputs": [
    {
     "data": {
      "image/png": "[encoded data removed]",
      "text/plain": [
       "<Figure size 720x432 with 2 Axes>"
      ]
     },
     "metadata": {},
     "output_type": "display_data"
    }
   ],
   "source": [
    "def plot_confusion_matrix(cm, classes,\n",
    "                          normalize=False,\n",
    "                          title='Confusion matrix',\n",
    "                          cmap=plt.cm.Blues):\n",
    "    \"\"\"\n",
    "    This function prints and plots the confusion matrix.\n",
    "    Normalization can be applied by setting `normalize=True`.\n",
    "    \"\"\"\n",
    "    if normalize:\n",
    "        title += \" (normalized)\"\n",
    "        cm = cm.astype('float') / cm.sum(axis=1)[:, np.newaxis]\n",
    "\n",
    "    plt.imshow(cm, interpolation='nearest', cmap=cmap)\n",
    "    plt.title(title)\n",
    "    plt.colorbar()\n",
    "    tick_marks = np.arange(len(classes))\n",
    "    plt.xticks(tick_marks, classes, rotation=45)\n",
    "    plt.yticks(tick_marks, classes)\n",
    "\n",
    "    fmt = '.2f' if normalize else 'd'\n",
    "    thresh = cm.max() / 2.\n",
    "    for i, j in itertools.product(range(cm.shape[0]), range(cm.shape[1])):\n",
    "        plt.text(j, i, format(cm[i, j], fmt),\n",
    "                 horizontalalignment=\"center\",\n",
    "                 color=\"white\" if cm[i, j] > thresh else \"black\")\n",
    "\n",
    "    plt.tight_layout()\n",
    "    plt.ylabel('True label')\n",
    "    plt.xlabel('Predicted label')\n",
    "    \n",
    "plot_confusion_matrix(confusion_matrix(y, clf.predict(X)), \n",
    "                      classes=['Perished', 'Survived'], \n",
    "                      normalize=True);"
   ]
  },
  {
   "cell_type": "markdown",
   "metadata": {},
   "source": [
    "La matriz de confusión, por el número de falsos negativos, nos sugiere que el modelo tiende a ser pesimista."
   ]
  },
  {
   "cell_type": "markdown",
   "metadata": {},
   "source": [
    "Para hacer predicciones, entrenamos el modelo seleccionado sobre todo el conjunto de entrentamiento. La precisión sobre el conjunto de entrenamiento, lógicamente, es más alta y menos exacta."
   ]
  },
  {
   "cell_type": "code",
   "execution_count": 89,
   "metadata": {},
   "outputs": [
    {
     "name": "stdout",
     "output_type": "stream",
     "text": [
      "Accuracy on train: 85.6%\n",
      "             precision    recall  f1-score   support\n",
      "\n",
      "        0.0       0.85      0.93      0.89       549\n",
      "        1.0       0.86      0.75      0.80       342\n",
      "\n",
      "avg / total       0.86      0.86      0.85       891\n",
      "\n"
     ]
    }
   ],
   "source": [
    "clf.fit(X, y)\n",
    "print(\"Accuracy on train: {:.1f}%\".format(accuracy_score(y, clf.predict(X))*100))\n",
    "print(classification_report(y, clf.predict(X)))\n",
    "y_pred = clf.predict(X_eval).astype(int)\n",
    "titanic_eval['Survived'] = y_pred"
   ]
  },
  {
   "cell_type": "code",
   "execution_count": 90,
   "metadata": {},
   "outputs": [
    {
     "name": "stdout",
     "output_type": "stream",
     "text": [
      "Predicted percentage of survivors: 33.3%\n"
     ]
    }
   ],
   "source": [
    "print(\"Predicted percentage of survivors: {:.1f}%\".format(\n",
    "      (y_pred.sum() / len(y_pred))*100))"
   ]
  },
  {
   "cell_type": "markdown",
   "metadata": {},
   "source": [
    "Si visualizamos la distribución de supervivientes vemos que el modelo está sesgado hacia la superviviencia de las mujeres y es muy pesimista respecto a la de los hombres. Esto sería algo que se podría intentar mejorar en otra iteración."
   ]
  },
  {
   "cell_type": "code",
   "execution_count": 91,
   "metadata": {},
   "outputs": [
    {
     "data": {
      "image/png": "[encoded data removed]",
      "text/plain": [
       "<Figure size 720x432 with 1 Axes>"
      ]
     },
     "metadata": {},
     "output_type": "display_data"
    }
   ],
   "source": [
    "sea.barplot(x='Sex', y='Survived', hue='Pclass', data=titanic_eval);\n",
    "\n",
    "plt.title('Predicted survival by Sex and Pclass', loc='left');\n",
    "sea.despine(left=True);"
   ]
  },
  {
   "cell_type": "markdown",
   "metadata": {},
   "source": [
    "### Evaluando el resultado en Kaggle"
   ]
  },
  {
   "cell_type": "markdown",
   "metadata": {},
   "source": [
    "Para evaluar el resultado en el tablero de clasificación de la competición lo único que hay que hacer es generar un fichero CSV con los resultados y enviarlo, por ejemplo, usando la API de Kaggle. \n",
    "\n",
    "El resultado es una precisión de 0.82775."
   ]
  },
  {
   "cell_type": "code",
   "execution_count": 92,
   "metadata": {},
   "outputs": [],
   "source": [
    "def make_submission(y_pred, name):\n",
    "    name = re.sub(r'\\.csv$', '', name)\n",
    "    filename = f\"../output/{name}.csv\"\n",
    "    pd.DataFrame({'Survived': y_pred.astype(int)}, \n",
    "                 index=titanic_eval.index).to_csv(filename)\n",
    "    return filename"
   ]
  },
  {
   "cell_type": "code",
   "execution_count": 93,
   "metadata": {},
   "outputs": [],
   "source": [
    "filename = make_submission(y_pred, 'submission')\n",
    "# !kaggle competitions submit -c titanic -f {filename} -m 'KNN'"
   ]
  }
 ],
 "metadata": {
  "kernelspec": {
   "display_name": "Python 3",
   "language": "python",
   "name": "python3"
  },
  "language_info": {
   "codemirror_mode": {
    "name": "ipython",
    "version": 3
   },
   "file_extension": ".py",
   "mimetype": "text/x-python",
   "name": "python",
   "nbconvert_exporter": "python",
   "pygments_lexer": "ipython3",
   "version": "3.6.5"
  }
 },
 "nbformat": 4,
 "nbformat_minor": 2
}
